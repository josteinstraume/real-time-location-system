{
 "cells": [
  {
   "cell_type": "markdown",
   "metadata": {},
   "source": [
    "# Real-Time Location System Case Study\n",
    "## MSDS 7333 - Section 404\n",
    "## Unit 6: Case Study\n",
    "\n",
    "[Data Science @ Southern Methodist University](https://datascience.smu.edu/)"
   ]
  },
  {
   "cell_type": "markdown",
   "metadata": {},
   "source": [
    "# Table of Contents\n",
    "* [Team Members](#Team-Members)\n",
    "* [Abstract](#Abstract)\n",
    "* [Introduction](#Introduction)\n",
    "* [Literature Review](#Literature-Review)\n",
    "* [Background](#Background)\n",
    "* [Methods](#Methods)\n",
    "* [Results](#Results)\n",
    "* [Future Work, Discussion, and Conclusion](#Conclusion)\n",
    "* [References](#References)"
   ]
  },
  {
   "cell_type": "markdown",
   "metadata": {},
   "source": [
    "# <a name=\"Team-Members\"></a>Team Members\n",
    "* [Jostein Barry-Straume](https://github.com/josteinstraume)"
   ]
  },
  {
   "cell_type": "markdown",
   "metadata": {},
   "source": [
    "# <a name=\"Abstract\"></a>Abstract\n",
    "\n",
    "> In this case study, the application of Signal Frontier Analysis is presented. Eight arbitrarily chosen stocks comprise a portfolio for which said analysis is conducted. Cumulative returns for each stock are computed, plotted, and inspected. Subsequently, the computed Sharpe ratios for various holding and lookback periods shed insight with regards to the optimal risk-return for this given portfolio."
   ]
  },
  {
   "cell_type": "markdown",
   "metadata": {},
   "source": [
    "# <a name=\"Introduction\"></a>Introduction\n",
    "\n",
    "> The methods by which an investor selects stocks for a portfolio can vary from anything to a gut feeling to a complex 'black box' algorithm. The former strategy involves trading on \"emotion and suggestions of others, including friends, family and financial gurus\" [1]. Individuals who follow such audacious decision making are often referred to as sheep, contrasting with the image of bulls and bears [1]. Hedge Funds and \"some of the world's largest investment managers\" now use the latter strategy to \"manage their complicated investment strategies\" [2]. Such a system inherently involves ethical implications, as a portfolio's risk may \"conceal their true risk under the guise of proprietary technology\" [2]. The below XKCD webcomic is tongue-in-cheek jab at the behind-the-scenes decision making of financial traders, which at times is seemingly following the previously mentioned sheep strategy.\n",
    "\n",
    "![Xkcd: Marketwatch[3]](../images/marketwatch.png)\n",
    "\n",
    "> Between these two ends of the investment spectrum lies momentum trading. Momentum trading involves analyzing the recent past performance of a given basket of stocks in order to discern the optimal time for which to hold a given stock or portfolio [4]. One of the tools a momentum trader uses is Signal Frontier Analysis. This analysis involves deriving the Sharpe ratio of a certain portfolio.\n",
    "\n",
    "> Developed in 1966 by the Nobel Laureate William F. Sharpe, the Sharpe ratio \"has become the most widely used method for calculating risk-adjusted return\" [5]. The Sharpe ratio represents the \"average return earned in excess of the risk-free rate per unit of volatility or total risk\" [5]. As a result, the performance of a stock can isolated with regard to its risk by subtracting the risk-free rate from the mean return [5]. A real-life application of the Sharpe ratio would be U.S. Treasury bills, which carry a Sharpe ratio of zero since they are considered to be risk free [5]. The purpose of this case study is to apply Signal Frontier Analysis to a wide range of arbitrarily chosen stocks representing a given portfolio. From there, the optimal momentum strategy of holding and lookback periods will be distilled from this portfolio."
   ]
  },
  {
   "cell_type": "markdown",
   "metadata": {},
   "source": [
    "# <a name=\"Literature-Review\"></a>Literature Review"
   ]
  },
  {
   "cell_type": "markdown",
   "metadata": {},
   "source": [
    "> In 1994, William F. Sharpe revisits his originally proposed reward-to-variability ratio presented in 1966 which would later become commonly known as the Sharpe ratio. The self-titled paper, \"The Sharpe Ratio,\" delves deeper into his created measurement for a reward-to-variability ratio by providing \"more generality and covering a broader range of applications\" [6].\n",
    "\n",
    "> One major criticism of \"The Sharpe Ratio\" is its reliance on the standard deviation of a portfolio's performance. In the paper, the risk of a portfolio is assumed to be the standard deviation of said portfolio's returns [5]. However, such reasoning inherently presumes the portfolio's returns are normally distributed, which may not be the actual case in real world applications [5]. As a result, application of the Sharpe ratio to a portfolio's returns that knowingly or unknowingly have a non-normal distribution could lead to potential bias and misleading conclusions.\n",
    "\n",
    "$$SharpeRatio=\\frac{\\bar{r}_p - r_f} {\\sigma{}_p}$$\n",
    "\n",
    "| Symbol | Description |\n",
    "| :------: | :-----------: |\n",
    "| $$\\bar{r}_p$$ | Represents the expected portfolio return |\n",
    "| $$r_f$$ | Represents the risk free rate |\n",
    "| $$\\sigma{}_p$$ | Represents the portfolio's standard deviation |\n",
    "\n",
    "> Any investment based upon Signal Frontier Analysis using the Sharpe ratio should be met with a healthy dose of skepticism. Although not a black box application, the Sharpe ratio is still not without its concerns and ethical considerations. Investopedia reports that not even the Sharpe ratio is immune to gaming the system by \"hedge funds or portfolio managers seeking to boost their apparent risk-adjusted returns history\" [5]. One of the gaming methods includes, but is not limited to increasing the length of the measurement interval. By doing so, the standard deviation decreases, which in this model means that the risk of portfolio decreases. For example, a hedge fund or portfolio manager can realize this by changing the measurement interval from daily to weekly or even monthly to produced a lower volatile estimate [5]."
   ]
  },
  {
   "cell_type": "markdown",
   "metadata": {},
   "source": [
    "# <a name=\"Background\"></a>Background\n",
    "\n",
    "### Import Dataset\n",
    "\n",
    "> The dataset will consist of closing stock prices from January 1, 2014 to May 1, 2018 for the following companies:\n",
    "\n",
    "| Variable | Description |\n",
    "| :------: | :-----------: |\n",
    "| t | timestamp in milliseconds since midnight, January 1, 1970 UTC |\n",
    "| id | MAC address of the scanning device |\n",
    "| pos | the physical coordinate of the scanning device |\n",
    "| degree | orientation of the user carrying the scanning device in degrees |\n",
    "| MAC | MAC address of a responding peer (e.g., an access point or a device in adhoc mode) with the corresponding values for signal strength in dBm (Decibel-milliwatts), the channel frequency and its mode (access point = 3, device in adhoc mode = 1) |\n",
    "\n",
    "> In order to carry out the signal frontier analysis, the closes prices of the above listed companies will be downloaded from Yahoo Finance via the 'pandas_datareader' library. The below three cells lays the foundation for data importation by calling upon the necessary libraries and packages required for this case study.\n",
    "\n",
    "![Floor Plan of the Test Environment](../images/floor_plan_test_environment.png)"
   ]
  },
  {
   "cell_type": "code",
   "execution_count": null,
   "metadata": {},
   "outputs": [],
   "source": []
  },
  {
   "cell_type": "code",
   "execution_count": 1,
   "metadata": {},
   "outputs": [],
   "source": [
    "options(digits = 2)\n",
    "txt = readLines(\"../data/offline_final_trace.txt\")"
   ]
  },
  {
   "cell_type": "code",
   "execution_count": 2,
   "metadata": {},
   "outputs": [
    {
     "data": {
      "text/html": [
       "5312"
      ],
      "text/latex": [
       "5312"
      ],
      "text/markdown": [
       "5312"
      ],
      "text/plain": [
       "[1] 5312"
      ]
     },
     "metadata": {},
     "output_type": "display_data"
    },
    {
     "data": {
      "text/html": [
       "151392"
      ],
      "text/latex": [
       "151392"
      ],
      "text/markdown": [
       "151392"
      ],
      "text/plain": [
       "[1] 151392"
      ]
     },
     "metadata": {},
     "output_type": "display_data"
    }
   ],
   "source": [
    "sum(substr(txt, 1, 1) == \"#\")\n",
    "length(txt)"
   ]
  },
  {
   "cell_type": "code",
   "execution_count": 3,
   "metadata": {},
   "outputs": [],
   "source": [
    "lines = txt[ substr(txt, 1, 1) != \"#\" ]\n",
    "\n",
    "processLine = function(x)\n",
    "{\n",
    "  tokens = strsplit(x, \"[;=,]\")[[1]]\n",
    "  \n",
    "  if (length(tokens) == 10) \n",
    "    return(NULL)\n",
    " \n",
    "  tmp = matrix(tokens[ - (1:10) ], , 4, byrow = TRUE)\n",
    "  cbind(matrix(tokens[c(2, 4, 6:8, 10)], nrow(tmp), 6, \n",
    "               byrow = TRUE), tmp)\n",
    "}\n",
    "\n",
    "options(error = recover, warn = 1)\n",
    "tmp = lapply(lines, processLine)\n",
    "offline = as.data.frame(do.call(\"rbind\", tmp), \n",
    "                        stringsAsFactors = FALSE)"
   ]
  },
  {
   "cell_type": "code",
   "execution_count": 4,
   "metadata": {},
   "outputs": [
    {
     "data": {
      "text/html": [
       "<ol class=list-inline>\n",
       "\t<li>1181628</li>\n",
       "\t<li>10</li>\n",
       "</ol>\n"
      ],
      "text/latex": [
       "\\begin{enumerate*}\n",
       "\\item 1181628\n",
       "\\item 10\n",
       "\\end{enumerate*}\n"
      ],
      "text/markdown": [
       "1. 1181628\n",
       "2. 10\n",
       "\n",
       "\n"
      ],
      "text/plain": [
       "[1] 1181628      10"
      ]
     },
     "metadata": {},
     "output_type": "display_data"
    },
    {
     "data": {
      "text/html": [
       "<ol class=list-inline>\n",
       "\t<li>978443</li>\n",
       "\t<li>9</li>\n",
       "</ol>\n"
      ],
      "text/latex": [
       "\\begin{enumerate*}\n",
       "\\item 978443\n",
       "\\item 9\n",
       "\\end{enumerate*}\n"
      ],
      "text/markdown": [
       "1. 978443\n",
       "2. 9\n",
       "\n",
       "\n"
      ],
      "text/plain": [
       "[1] 978443      9"
      ]
     },
     "metadata": {},
     "output_type": "display_data"
    },
    {
     "data": {
      "text/html": [
       "<dl class=dl-horizontal>\n",
       "\t<dt>time1</dt>\n",
       "\t\t<dd>'POSIXt'</dd>\n",
       "\t<dt>time2</dt>\n",
       "\t\t<dd>'POSIXct'</dd>\n",
       "\t<dt>scanMac</dt>\n",
       "\t\t<dd>'character'</dd>\n",
       "\t<dt>posX</dt>\n",
       "\t\t<dd>'numeric'</dd>\n",
       "\t<dt>posY</dt>\n",
       "\t\t<dd>'numeric'</dd>\n",
       "\t<dt>posZ</dt>\n",
       "\t\t<dd>'numeric'</dd>\n",
       "\t<dt>orientation</dt>\n",
       "\t\t<dd>'numeric'</dd>\n",
       "\t<dt>mac</dt>\n",
       "\t\t<dd>'character'</dd>\n",
       "\t<dt>signal</dt>\n",
       "\t\t<dd>'numeric'</dd>\n",
       "\t<dt>channel</dt>\n",
       "\t\t<dd>'character'</dd>\n",
       "\t<dt>rawTime</dt>\n",
       "\t\t<dd>'numeric'</dd>\n",
       "</dl>\n"
      ],
      "text/latex": [
       "\\begin{description*}\n",
       "\\item[time1] 'POSIXt'\n",
       "\\item[time2] 'POSIXct'\n",
       "\\item[scanMac] 'character'\n",
       "\\item[posX] 'numeric'\n",
       "\\item[posY] 'numeric'\n",
       "\\item[posZ] 'numeric'\n",
       "\\item[orientation] 'numeric'\n",
       "\\item[mac] 'character'\n",
       "\\item[signal] 'numeric'\n",
       "\\item[channel] 'character'\n",
       "\\item[rawTime] 'numeric'\n",
       "\\end{description*}\n"
      ],
      "text/markdown": [
       "time1\n",
       ":   'POSIXt'time2\n",
       ":   'POSIXct'scanMac\n",
       ":   'character'posX\n",
       ":   'numeric'posY\n",
       ":   'numeric'posZ\n",
       ":   'numeric'orientation\n",
       ":   'numeric'mac\n",
       ":   'character'signal\n",
       ":   'numeric'channel\n",
       ":   'character'rawTime\n",
       ":   'numeric'\n",
       "\n"
      ],
      "text/plain": [
       "      time1       time2     scanMac        posX        posY        posZ \n",
       "   \"POSIXt\"   \"POSIXct\" \"character\"   \"numeric\"   \"numeric\"   \"numeric\" \n",
       "orientation         mac      signal     channel     rawTime \n",
       "  \"numeric\" \"character\"   \"numeric\" \"character\"   \"numeric\" "
      ]
     },
     "metadata": {},
     "output_type": "display_data"
    }
   ],
   "source": [
    "dim(offline)\n",
    "\n",
    "names(offline) = c(\"time\", \"scanMac\", \"posX\", \"posY\", \"posZ\", \n",
    "                   \"orientation\", \"mac\", \"signal\", \n",
    "                   \"channel\", \"type\")\n",
    "\n",
    "numVars = c(\"time\", \"posX\", \"posY\", \"posZ\", \n",
    "            \"orientation\", \"signal\")\n",
    "offline[ numVars ] =  lapply(offline[ numVars ], as.numeric)\n",
    "\n",
    "offline = offline[ offline$type == \"3\", ]\n",
    "offline = offline[ , \"type\" != names(offline) ]\n",
    "dim(offline)\n",
    "\n",
    "offline$rawTime = offline$time\n",
    "offline$time = offline$time/1000\n",
    "class(offline$time) = c(\"POSIXt\", \"POSIXct\")\n",
    "\n",
    "unlist(lapply(offline, class))"
   ]
  },
  {
   "cell_type": "markdown",
   "metadata": {},
   "source": [
    "### Summary Statistics\n",
    "\n",
    "> The summary statistics for each company are found below:"
   ]
  },
  {
   "cell_type": "code",
   "execution_count": 5,
   "metadata": {},
   "outputs": [
    {
     "data": {
      "text/plain": [
       "      time                          posX         posY           posZ  \n",
       " Min.   :2006-02-10 23:31:58   Min.   : 0   Min.   : 0.0   Min.   :0  \n",
       " 1st Qu.:2006-02-11 05:21:27   1st Qu.: 2   1st Qu.: 3.0   1st Qu.:0  \n",
       " Median :2006-02-11 11:57:58   Median :12   Median : 6.0   Median :0  \n",
       " Mean   :2006-02-16 06:57:37   Mean   :14   Mean   : 5.9   Mean   :0  \n",
       " 3rd Qu.:2006-02-19 06:52:40   3rd Qu.:23   3rd Qu.: 8.0   3rd Qu.:0  \n",
       " Max.   :2006-03-09 12:41:10   Max.   :33   Max.   :13.0   Max.   :0  \n",
       "  orientation      signal   \n",
       " Min.   :  0   Min.   :-99  \n",
       " 1st Qu.: 90   1st Qu.:-69  \n",
       " Median :180   Median :-60  \n",
       " Mean   :167   Mean   :-62  \n",
       " 3rd Qu.:270   3rd Qu.:-53  \n",
       " Max.   :360   Max.   :-25  "
      ]
     },
     "metadata": {},
     "output_type": "display_data"
    },
    {
     "data": {
      "text/plain": [
       "                mac               channel                    scanMac      \n",
       " 00:0f:a3:39:e1:c0:145862   2462000000:189774   00:02:2D:21:0F:33:978443  \n",
       " 00:0f:a3:39:dd:cd:145619   2437000000:152124                             \n",
       " 00:14:bf:b1:97:8a:132962   2412000000:145619                             \n",
       " 00:14:bf:3b:c7:c6:126529   2432000000:126529                             \n",
       " 00:14:bf:b1:97:90:122315   2427000000:122315                             \n",
       " 00:14:bf:b1:97:8d:121325   2442000000:121325                             \n",
       " (Other)          :183831   (Other)   :120757                             "
      ]
     },
     "metadata": {},
     "output_type": "display_data"
    },
    {
     "data": {
      "text/html": [
       "203"
      ],
      "text/latex": [
       "203"
      ],
      "text/markdown": [
       "203"
      ],
      "text/plain": [
       "[1] 203"
      ]
     },
     "metadata": {},
     "output_type": "display_data"
    },
    {
     "data": {
      "image/png": "[encoded data removed]",
      "text/plain": [
       "Plot with title “ecdf(offline$orientation)”"
      ]
     },
     "metadata": {},
     "output_type": "display_data"
    },
    {
     "data": {
      "text/html": [
       "<strong>null device:</strong> 1"
      ],
      "text/latex": [
       "\\textbf{null device:} 1"
      ],
      "text/markdown": [
       "**null device:** 1"
      ],
      "text/plain": [
       "null device \n",
       "          1 "
      ]
     },
     "metadata": {},
     "output_type": "display_data"
    },
    {
     "data": {
      "image/png": "[encoded data removed]",
      "text/plain": [
       "Plot with title “”"
      ]
     },
     "metadata": {},
     "output_type": "display_data"
    }
   ],
   "source": [
    "summary(offline[, numVars])\n",
    "\n",
    " summary(sapply(offline[ , c(\"mac\", \"channel\", \"scanMac\")],\n",
    "                as.factor))\n",
    "\n",
    "offline = offline[ , !(names(offline) %in% c(\"scanMac\", \"posZ\"))]\n",
    "\n",
    "length(unique(offline$orientation))\n",
    "\n",
    "plot(ecdf(offline$orientation))\n",
    "\n",
    "#pdf(file = \"Geo_ECDFOrientation.pdf\", width = 10, height = 7)\n",
    "oldPar = par(mar = c(4, 4, 1, 1))\n",
    "plot(ecdf(offline$orientation), pch = 19, cex = 0.3,\n",
    "     xlim = c(-5, 365), axes = FALSE,\n",
    "     xlab = \"orientation\", ylab = \"Empirical CDF\", main = \"\")\n",
    "box()\n",
    "axis(2)\n",
    "axis(side = 1, at = seq(0, 360, by = 45))\n",
    "par(oldPar)\n",
    "dev.off()"
   ]
  },
  {
   "cell_type": "markdown",
   "metadata": {},
   "source": [
    "# <a name=\"Methods\"></a>Methods\n",
    "\n",
    "> The below cell deals with determining the cumulative returns of each of the eight chosen stocks. First, returns are calculated by taking the percent change based on closing prices. Subsequently, the cumulative return is then calculated as the difference between the cumulative product of 1 plus the percent change of return, minus 1 to isolate for only cumulative returns. The outcome of these calculations are plotted and discussed in the results section."
   ]
  },
  {
   "cell_type": "markdown",
   "metadata": {},
   "source": [
    "# 1.5 Nearest Neighbor Methods to Predict Location"
   ]
  },
  {
   "cell_type": "markdown",
   "metadata": {},
   "source": [
    "# With BOTH MAC ADDRESSES"
   ]
  },
  {
   "cell_type": "code",
   "execution_count": 23,
   "metadata": {},
   "outputs": [
    {
     "ename": "ERROR",
     "evalue": "Error in offlineSummary$angle %in% angles: object 'angles' not found\n",
     "output_type": "error",
     "traceback": [
      "Error in offlineSummary$angle %in% angles: object 'angles' not found\nTraceback:\n",
      "1. offlineSummary[offlineSummary$angle %in% angles, ]",
      "2. `[.data.frame`(offlineSummary, offlineSummary$angle %in% angles, \n .     )",
      "3. offlineSummary$angle %in% angles"
     ]
    }
   ],
   "source": [
    "offlineSubset = \n",
    "  offlineSummary[ offlineSummary$angle %in% angles, ]\n",
    "\n",
    "reshapeSS = function(data, varSignal = \"signal\", \n",
    "                     keepVars = c(\"posXY\", \"posX\",\"posY\")) {\n",
    "  byLocation =\n",
    "    with(data, by(data, list(posXY), \n",
    "                  function(x) {\n",
    "                    ans = x[1, keepVars]\n",
    "                    avgSS = tapply(x[ , varSignal ], x$mac, mean)\n",
    "                    y = matrix(avgSS, nrow = 1, ncol = 6,\n",
    "                               dimnames = list(ans$posXY,\n",
    "                                               names(avgSS)))\n",
    "                    cbind(ans, y)\n",
    "                  }))\n",
    "\n",
    "  newDataSS = do.call(\"rbind\", byLocation)\n",
    "  return(newDataSS)\n",
    "}\n",
    "\n",
    "trainSS = reshapeSS(offlineSubset, varSignal = \"avgSignal\")"
   ]
  },
  {
   "cell_type": "code",
   "execution_count": null,
   "metadata": {},
   "outputs": [],
   "source": []
  },
  {
   "cell_type": "code",
   "execution_count": 18,
   "metadata": {},
   "outputs": [],
   "source": [
    "readData = \n",
    "  function(filename = '../data/offline_final_trace.txt', \n",
    "           subMacs = c(\"00:0f:a3:39:e1:c0\", \"00:0f:a3:39:dd:cd\", \"00:14:bf:b1:97:8a\",\n",
    "                       \"00:14:bf:3b:c7:c6\", \"00:14:bf:b1:97:90\", \"00:14:bf:b1:97:8d\",\n",
    "                       \"00:14:bf:b1:97:81\"))\n",
    "  {\n",
    "    txt = readLines(filename)\n",
    "    lines = txt[ substr(txt, 1, 1) != \"#\" ]\n",
    "    tmp = lapply(lines, processLine)\n",
    "    offline = as.data.frame(do.call(\"rbind\", tmp), \n",
    "                            stringsAsFactors= FALSE) \n",
    "    \n",
    "    names(offline) = c(\"time\", \"scanMac\", \n",
    "                       \"posX\", \"posY\", \"posZ\", \"orientation\", \n",
    "                       \"mac\", \"signal\", \"channel\", \"type\")\n",
    "    \n",
    "     # keep only signals from access points\n",
    "    offline = offline[ offline$type == \"3\", ]\n",
    "    \n",
    "    # drop scanMac, posZ, channel, and type - no info in them\n",
    "    dropVars = c(\"scanMac\", \"posZ\", \"channel\", \"type\")\n",
    "    offline = offline[ , !( names(offline) %in% dropVars ) ]\n",
    "    \n",
    "    # drop more unwanted access points\n",
    "    offline = offline[ offline$mac %in% subMacs, ]\n",
    "    \n",
    "    # convert numeric values\n",
    "    numVars = c(\"time\", \"posX\", \"posY\", \"orientation\", \"signal\")\n",
    "    offline[ numVars ] = lapply(offline[ numVars ], as.numeric)\n",
    "\n",
    "    # convert time to POSIX\n",
    "    offline$rawTime = offline$time\n",
    "    offline$time = offline$time/1000\n",
    "    class(offline$time) = c(\"POSIXt\", \"POSIXct\")\n",
    "    \n",
    "    # round orientations to nearest 45\n",
    "    offline$angle = roundOrientation(offline$orientation)\n",
    "      \n",
    "    return(offline)\n",
    "  }"
   ]
  },
  {
   "cell_type": "code",
   "execution_count": 19,
   "metadata": {},
   "outputs": [],
   "source": [
    "offlineRedo = readData()\n",
    "\n",
    "offlineRedo$posXY = paste(offlineRedo$posX, offlineRedo$posY, sep = \"-\")\n",
    "\n",
    "byLocAngleAP = with(offlineRedo, \n",
    "                    by(offlineRedo, list(posXY, angle, mac), \n",
    "                       function(x) x))\n",
    "\n",
    "signalSummary = \n",
    "  lapply(byLocAngleAP,            \n",
    "         function(oneLoc) {\n",
    "           ans = oneLoc[1, ]\n",
    "           ans$medSignal = median(oneLoc$signal)\n",
    "           ans$avgSignal = mean(oneLoc$signal)\n",
    "           ans$num = length(oneLoc$signal)\n",
    "           ans$sdSignal = sd(oneLoc$signal)\n",
    "           ans$iqrSignal = IQR(oneLoc$signal)\n",
    "           ans\n",
    "           })\n",
    "\n",
    "offlineSummaryRedo = do.call(\"rbind\", signalSummary)"
   ]
  },
  {
   "cell_type": "code",
   "execution_count": 20,
   "metadata": {},
   "outputs": [
    {
     "ename": "ERROR",
     "evalue": "Error in offlineSummaryRedo$angle %in% angles: object 'angles' not found\n",
     "output_type": "error",
     "traceback": [
      "Error in offlineSummaryRedo$angle %in% angles: object 'angles' not found\nTraceback:\n",
      "1. offlineSummaryRedo[offlineSummaryRedo$angle %in% angles, ]",
      "2. `[.data.frame`(offlineSummaryRedo, offlineSummaryRedo$angle %in% \n .     angles, )",
      "3. offlineSummaryRedo$angle %in% angles"
     ]
    }
   ],
   "source": [
    "macs = unique(offlineSummaryRedo$mac)\n",
    "onlineRedo = readData(\"../data/online_final_trace.txt\", subMacs = macs)\n",
    "\n",
    "onlineRedo$posXY = paste(onlineRedo$posX, onlineRedo$posY, sep = \"-\")\n",
    "\n",
    "keepVars = c(\"posXY\", \"posX\",\"posY\", \"orientation\", \"angle\")\n",
    "byLoc = with(onlineRedo, \n",
    "             by(onlineRedo, list(posXY), \n",
    "                function(x) {\n",
    "                  ans = x[1, keepVars]\n",
    "                  avgSS = tapply(x$signal, x$mac, mean)\n",
    "                  y = matrix(avgSS, nrow = 1, ncol = 7,\n",
    "                        dimnames = list(ans$posXY, names(avgSS)))\n",
    "                  cbind(ans, y)\n",
    "                }))\n",
    "\n",
    "onlineSummaryRedo = do.call(\"rbind\", byLoc)\n",
    "\n",
    "offlineSubsetRedo = offlineSummaryRedo[ offlineSummaryRedo$angle %in% angles, ]\n",
    "\n",
    "reshapeSS = function(data, varSignal = \"signal\", \n",
    "                     keepVars = c(\"posXY\", \"posX\",\"posY\"),\n",
    "                     sampleAngle = FALSE, \n",
    "                     refs = seq(0, 315, by = 45)) {\n",
    "  byLocation =\n",
    "    with(data, by(data, list(posXY), \n",
    "                  function(x) {\n",
    "                    if (sampleAngle) {\n",
    "                      x = x[x$angle == sample(refs, size = 1), ]}\n",
    "                    ans = x[1, keepVars]\n",
    "                    avgSS = tapply(x[ , varSignal ], x$mac, mean)\n",
    "                    y = matrix(avgSS, nrow = 1, ncol = 7,\n",
    "                               dimnames = list(ans$posXY,\n",
    "                                               names(avgSS)))\n",
    "                    cbind(ans, y)\n",
    "                  }))\n",
    "\n",
    "  newDataSS = do.call(\"rbind\", byLocation)\n",
    "  return(newDataSS)\n",
    "}\n",
    "\n",
    "trainSS = reshapeSS(offlineSubsetRedo, varSignal = \"avgSignal\")\n",
    "\n",
    "selectTrain = function(angleNewObs, signals = NULL, m = 1){\n",
    "  # m is the number of angles to keep between 1 and 5\n",
    "  refs = seq(0, by = 45, length  = 8)\n",
    "  nearestAngle = roundOrientation(angleNewObs)\n",
    "  \n",
    "  if (m %% 2 == 1) \n",
    "    angles = seq(-45 * (m - 1) /2, 45 * (m - 1) /2, length = m)\n",
    "  else {\n",
    "    m = m + 1\n",
    "    angles = seq(-45 * (m - 1) /2, 45 * (m - 1) /2, length = m)\n",
    "    if (sign(angleNewObs - nearestAngle) > -1) \n",
    "      angles = angles[ -1 ]\n",
    "    else \n",
    "      angles = angles[ -m ]\n",
    "  }\n",
    "  angles = angles + nearestAngle\n",
    "  angles[angles < 0] = angles[ angles < 0 ] + 360\n",
    "  angles[angles > 360] = angles[ angles > 360 ] - 360\n",
    "  angles = sort(angles) \n",
    "  \n",
    "  offlineSubsetRedo = signals[ signals$angle %in% angles, ]\n",
    "  reshapeSS(offlineSubsetRedo, varSignal = \"avgSignal\")\n",
    "}\n",
    "\n",
    "keepVars = c(\"posXY\", \"posX\", \"posY\", \"orientation\", \"angle\")\n",
    "onlineCVSummaryRedo = reshapeSS(offlineRedo, keepVars = keepVars,\n",
    "                            sampleAngle = TRUE)"
   ]
  },
  {
   "cell_type": "code",
   "execution_count": null,
   "metadata": {},
   "outputs": [],
   "source": [
    "names(onlineSummary)"
   ]
  },
  {
   "cell_type": "code",
   "execution_count": null,
   "metadata": {},
   "outputs": [],
   "source": [
    "K = 20\n",
    "err = rep(0, K)\n",
    "\n",
    "for (j in 1:v) {\n",
    "  onlineFoldRedo = subset(onlineCVSummaryRedo, \n",
    "                      posXY %in% permuteLocs[ , j])\n",
    "  offlineFoldRedo = subset(offlineSummaryRedo,\n",
    "                       posXY %in% permuteLocs[ , -j])\n",
    "  actualFoldRedo = onlineFoldRedo[ , c(\"posX\", \"posY\")]\n",
    "  \n",
    "  for (k in 1:K) {\n",
    "    estFoldRedo = predXY(newSignals = onlineFoldRedo[ , 6:11],\n",
    "                     newAngles = onlineFoldRedo[ , 4], \n",
    "                     offlineFoldRedo, numAngles = 3, k = k)\n",
    "    err[k] = err[k] + calcError(estFoldRedo, actualFoldRedo)\n",
    "  }\n",
    "}"
   ]
  },
  {
   "cell_type": "code",
   "execution_count": null,
   "metadata": {},
   "outputs": [],
   "source": [
    "plot(y = err, x = (1:K),  type = \"l\", lwd= 2,\n",
    "     ylim = c(1200, 2100),\n",
    "     xlab = \"Number of Neighbors\",\n",
    "     ylab = \"Sum of Square Errors\")\n",
    "\n",
    "rmseMin = min(err)\n",
    "kMin = which(err == rmseMin)[1]\n",
    "segments(x0 = 0, x1 = kMin, y0 = rmseMin, col = gray(0.4), \n",
    "         lty = 2, lwd = 2)\n",
    "segments(x0 = kMin, x1 = kMin, y0 = 1100,  y1 = rmseMin, \n",
    "         col = grey(0.4), lty = 2, lwd = 2)\n",
    "\n",
    "#mtext(kMin, side = 1, line = 1, at = kMin, col = grey(0.4))\n",
    "text(x = kMin - 2, y = rmseMin + 40, \n",
    "     label = as.character(round(rmseMin)), col = grey(0.4))"
   ]
  },
  {
   "cell_type": "code",
   "execution_count": null,
   "metadata": {},
   "outputs": [],
   "source": [
    "actualXYRedo = onlineSummaryRedo[ , c(\"posX\", \"posY\")]\n",
    "\n",
    "estXYk3 = predXY(newSignals = onlineSummaryRedo[ , 6:11],\n",
    "                 newAngles = onlineSummaryRedo[ , 4],\n",
    "                 offlineSummaryRedo, numAngles = 3, k = 3)\n",
    "\n",
    "errorRateWithBoth = calcError(estXYk3, actualXYRedo)\n",
    "errorRateWithBoth"
   ]
  },
  {
   "cell_type": "markdown",
   "metadata": {},
   "source": [
    "# Without \"00:0f:a3:39:e1:c0\""
   ]
  },
  {
   "cell_type": "code",
   "execution_count": 21,
   "metadata": {},
   "outputs": [],
   "source": [
    "offlineRedo2 = offlineRedo[ offlineRedo$mac != \"00:0f:a3:39:e1:c0\", ]\n",
    "\n",
    "\n",
    "offlineRedo2$posXY = paste(offlineRedo2$posX, offlineRedo2$posY, sep = \"-\")\n",
    "\n",
    "byLocAngleAP = with(offlineRedo2, \n",
    "                    by(offlineRedo2, list(posXY, angle, mac), \n",
    "                       function(x) x))\n",
    "\n",
    "signalSummary = \n",
    "  lapply(byLocAngleAP,            \n",
    "         function(oneLoc) {\n",
    "           ans = oneLoc[1, ]\n",
    "           ans$medSignal = median(oneLoc$signal)\n",
    "           ans$avgSignal = mean(oneLoc$signal)\n",
    "           ans$num = length(oneLoc$signal)\n",
    "           ans$sdSignal = sd(oneLoc$signal)\n",
    "           ans$iqrSignal = IQR(oneLoc$signal)\n",
    "           ans\n",
    "           })\n",
    "\n",
    "offlineSummaryRedo2 = do.call(\"rbind\", signalSummary)\n",
    "\n"
   ]
  },
  {
   "cell_type": "code",
   "execution_count": 22,
   "metadata": {},
   "outputs": [
    {
     "ename": "ERROR",
     "evalue": "Error in offlineSummaryRedo2$angle %in% angles: object 'angles' not found\n",
     "output_type": "error",
     "traceback": [
      "Error in offlineSummaryRedo2$angle %in% angles: object 'angles' not found\nTraceback:\n",
      "1. offlineSummaryRedo2[offlineSummaryRedo2$angle %in% angles, ]",
      "2. `[.data.frame`(offlineSummaryRedo2, offlineSummaryRedo2$angle %in% \n .     angles, )",
      "3. offlineSummaryRedo2$angle %in% angles"
     ]
    }
   ],
   "source": [
    "macs = unique(offlineSummaryRedo2$mac)\n",
    "onlineRedo2 = readData(\"../data/online_final_trace.txt\", subMacs = macs)\n",
    "\n",
    "onlineRedo2$posXY = paste(onlineRedo2$posX, onlineRedo2$posY, sep = \"-\")\n",
    "\n",
    "keepVars = c(\"posXY\", \"posX\",\"posY\", \"orientation\", \"angle\")\n",
    "byLoc = with(onlineRedo2, \n",
    "             by(onlineRedo2, list(posXY), \n",
    "                function(x) {\n",
    "                  ans = x[1, keepVars]\n",
    "                  avgSS = tapply(x$signal, x$mac, mean)\n",
    "                  y = matrix(avgSS, nrow = 1, ncol = 6,\n",
    "                        dimnames = list(ans$posXY, names(avgSS)))\n",
    "                  cbind(ans, y)\n",
    "                }))\n",
    "\n",
    "onlineSummaryRedo2 = do.call(\"rbind\", byLoc)\n",
    "\n",
    "offlineSubsetRedo2 = offlineSummaryRedo2[ offlineSummaryRedo2$angle %in% angles, ]\n",
    "\n",
    "reshapeSS = function(data, varSignal = \"signal\", \n",
    "                     keepVars = c(\"posXY\", \"posX\",\"posY\"),\n",
    "                     sampleAngle = FALSE, \n",
    "                     refs = seq(0, 315, by = 45)) {\n",
    "  byLocation =\n",
    "    with(data, by(data, list(posXY), \n",
    "                  function(x) {\n",
    "                    if (sampleAngle) {\n",
    "                      x = x[x$angle == sample(refs, size = 1), ]}\n",
    "                    ans = x[1, keepVars]\n",
    "                    avgSS = tapply(x[ , varSignal ], x$mac, mean)\n",
    "                    y = matrix(avgSS, nrow = 1, ncol = 6,\n",
    "                               dimnames = list(ans$posXY,\n",
    "                                               names(avgSS)))\n",
    "                    cbind(ans, y)\n",
    "                  }))\n",
    "\n",
    "  newDataSS = do.call(\"rbind\", byLocation)\n",
    "  return(newDataSS)\n",
    "}\n",
    "\n",
    "trainSS = reshapeSS(offlineSubsetRedo2, varSignal = \"avgSignal\")\n",
    "\n",
    "selectTrain = function(angleNewObs, signals = NULL, m = 1){\n",
    "  # m is the number of angles to keep between 1 and 5\n",
    "  refs = seq(0, by = 45, length  = 8)\n",
    "  nearestAngle = roundOrientation(angleNewObs)\n",
    "  \n",
    "  if (m %% 2 == 1) \n",
    "    angles = seq(-45 * (m - 1) /2, 45 * (m - 1) /2, length = m)\n",
    "  else {\n",
    "    m = m + 1\n",
    "    angles = seq(-45 * (m - 1) /2, 45 * (m - 1) /2, length = m)\n",
    "    if (sign(angleNewObs - nearestAngle) > -1) \n",
    "      angles = angles[ -1 ]\n",
    "    else \n",
    "      angles = angles[ -m ]\n",
    "  }\n",
    "  angles = angles + nearestAngle\n",
    "  angles[angles < 0] = angles[ angles < 0 ] + 360\n",
    "  angles[angles > 360] = angles[ angles > 360 ] - 360\n",
    "  angles = sort(angles) \n",
    "  \n",
    "  offlineSubsetRedo2 = signals[ signals$angle %in% angles, ]\n",
    "  reshapeSS(offlineSubsetRedo2, varSignal = \"avgSignal\")\n",
    "}\n",
    "\n",
    "keepVars = c(\"posXY\", \"posX\", \"posY\", \"orientation\", \"angle\")\n",
    "onlineCVSummaryRedo2 = reshapeSS(offlineRedo2, keepVars = keepVars,\n",
    "                            sampleAngle = TRUE)"
   ]
  },
  {
   "cell_type": "code",
   "execution_count": null,
   "metadata": {},
   "outputs": [],
   "source": [
    "K = 20\n",
    "err = rep(0, K)\n",
    "\n",
    "for (j in 1:v) {\n",
    "  onlineFoldRedo2 = subset(onlineCVSummaryRedo2, \n",
    "                      posXY %in% permuteLocs[ , j])\n",
    "  offlineFoldRedo2 = subset(offlineSummaryRedo2,\n",
    "                       posXY %in% permuteLocs[ , -j])\n",
    "  actualFoldRedo2 = onlineFoldRedo2[ , c(\"posX\", \"posY\")]\n",
    "  \n",
    "  for (k in 1:K) {\n",
    "    estFoldRedo2 = predXY(newSignals = onlineFoldRedo2[ , 6:11],\n",
    "                     newAngles = onlineFoldRedo2[ , 4], \n",
    "                     offlineFoldRedo2, numAngles = 3, k = k)\n",
    "    err[k] = err[k] + calcError(estFoldRedo2, actualFoldRedo2)\n",
    "  }\n",
    "}\n"
   ]
  },
  {
   "cell_type": "code",
   "execution_count": null,
   "metadata": {},
   "outputs": [],
   "source": [
    "plot(y = err, x = (1:K),  type = \"l\", lwd= 2,\n",
    "     ylim = c(900, 2100),\n",
    "     xlab = \"Number of Neighbors\",\n",
    "     ylab = \"Sum of Square Errors\")\n",
    "\n",
    "rmseMin = min(err)\n",
    "kMin = which(err == rmseMin)[1]\n",
    "segments(x0 = 0, x1 = kMin, y0 = rmseMin, col = gray(0.4), \n",
    "         lty = 2, lwd = 2)\n",
    "segments(x0 = kMin, x1 = kMin, y0 = 1100,  y1 = rmseMin, \n",
    "         col = grey(0.4), lty = 2, lwd = 2)\n",
    "\n",
    "#mtext(kMin, side = 1, line = 1, at = kMin, col = grey(0.4))\n",
    "text(x = kMin - 2, y = rmseMin + 40, \n",
    "     label = as.character(round(rmseMin)), col = grey(0.4))"
   ]
  },
  {
   "cell_type": "code",
   "execution_count": null,
   "metadata": {},
   "outputs": [],
   "source": [
    "actualXYRedo2 = onlineSummaryRedo2[ , c(\"posX\", \"posY\")]\n",
    "\n",
    "estXYk6 = predXY(newSignals = onlineSummaryRedo2[ , 6:11],\n",
    "                 newAngles = onlineSummaryRedo2[ , 4],\n",
    "                 offlineSummaryRedo2, numAngles = 3, k = 6)\n",
    "\n",
    "errorRateSansC0 = calcError(estXYk6, actualXYRedo2)\n",
    "errorRateSansC0"
   ]
  },
  {
   "cell_type": "code",
   "execution_count": null,
   "metadata": {},
   "outputs": [],
   "source": [
    "252.336966666667"
   ]
  },
  {
   "cell_type": "markdown",
   "metadata": {},
   "source": [
    "# Without \"00:0f:a3:39:dd:cd\""
   ]
  },
  {
   "cell_type": "code",
   "execution_count": null,
   "metadata": {},
   "outputs": [],
   "source": [
    "offlineRedo3 = offlineRedo[ offlineRedo$mac != \"00:0f:a3:39:dd:cd\", ]\n",
    "\n",
    "\n",
    "offlineRedo3$posXY = paste(offlineRedo3$posX, offlineRedo3$posY, sep = \"-\")\n",
    "\n",
    "byLocAngleAP = with(offlineRedo3, \n",
    "                    by(offlineRedo3, list(posXY, angle, mac), \n",
    "                       function(x) x))\n",
    "\n",
    "signalSummary = \n",
    "  lapply(byLocAngleAP,            \n",
    "         function(oneLoc) {\n",
    "           ans = oneLoc[1, ]\n",
    "           ans$medSignal = median(oneLoc$signal)\n",
    "           ans$avgSignal = mean(oneLoc$signal)\n",
    "           ans$num = length(oneLoc$signal)\n",
    "           ans$sdSignal = sd(oneLoc$signal)\n",
    "           ans$iqrSignal = IQR(oneLoc$signal)\n",
    "           ans\n",
    "           })\n",
    "\n",
    "offlineSummaryRedo3 = do.call(\"rbind\", signalSummary)\n",
    "\n"
   ]
  },
  {
   "cell_type": "code",
   "execution_count": null,
   "metadata": {},
   "outputs": [],
   "source": [
    "macs = unique(offlineSummaryRedo3$mac)\n",
    "onlineRedo3 = readData(\"../data/online_final_trace.txt\", subMacs = macs)\n",
    "\n",
    "onlineRedo3$posXY = paste(onlineRedo3$posX, onlineRedo3$posY, sep = \"-\")\n",
    "\n",
    "keepVars = c(\"posXY\", \"posX\",\"posY\", \"orientation\", \"angle\")\n",
    "byLoc = with(onlineRedo3, \n",
    "             by(onlineRedo3, list(posXY), \n",
    "                function(x) {\n",
    "                  ans = x[1, keepVars]\n",
    "                  avgSS = tapply(x$signal, x$mac, mean)\n",
    "                  y = matrix(avgSS, nrow = 1, ncol = 6,\n",
    "                        dimnames = list(ans$posXY, names(avgSS)))\n",
    "                  cbind(ans, y)\n",
    "                }))\n",
    "\n",
    "onlineSummaryRedo3 = do.call(\"rbind\", byLoc)\n",
    "\n",
    "offlineSubsetRedo3 = offlineSummaryRedo3[ offlineSummaryRedo3$angle %in% angles, ]\n",
    "\n",
    "reshapeSS = function(data, varSignal = \"signal\", \n",
    "                     keepVars = c(\"posXY\", \"posX\",\"posY\"),\n",
    "                     sampleAngle = FALSE, \n",
    "                     refs = seq(0, 315, by = 45)) {\n",
    "  byLocation =\n",
    "    with(data, by(data, list(posXY), \n",
    "                  function(x) {\n",
    "                    if (sampleAngle) {\n",
    "                      x = x[x$angle == sample(refs, size = 1), ]}\n",
    "                    ans = x[1, keepVars]\n",
    "                    avgSS = tapply(x[ , varSignal ], x$mac, mean)\n",
    "                    y = matrix(avgSS, nrow = 1, ncol = 6,\n",
    "                               dimnames = list(ans$posXY,\n",
    "                                               names(avgSS)))\n",
    "                    cbind(ans, y)\n",
    "                  }))\n",
    "\n",
    "  newDataSS = do.call(\"rbind\", byLocation)\n",
    "  return(newDataSS)\n",
    "}\n",
    "\n",
    "trainSS = reshapeSS(offlineSubsetRedo3, varSignal = \"avgSignal\")\n",
    "\n",
    "selectTrain = function(angleNewObs, signals = NULL, m = 1){\n",
    "  # m is the number of angles to keep between 1 and 5\n",
    "  refs = seq(0, by = 45, length  = 8)\n",
    "  nearestAngle = roundOrientation(angleNewObs)\n",
    "  \n",
    "  if (m %% 2 == 1) \n",
    "    angles = seq(-45 * (m - 1) /2, 45 * (m - 1) /2, length = m)\n",
    "  else {\n",
    "    m = m + 1\n",
    "    angles = seq(-45 * (m - 1) /2, 45 * (m - 1) /2, length = m)\n",
    "    if (sign(angleNewObs - nearestAngle) > -1) \n",
    "      angles = angles[ -1 ]\n",
    "    else \n",
    "      angles = angles[ -m ]\n",
    "  }\n",
    "  angles = angles + nearestAngle\n",
    "  angles[angles < 0] = angles[ angles < 0 ] + 360\n",
    "  angles[angles > 360] = angles[ angles > 360 ] - 360\n",
    "  angles = sort(angles) \n",
    "  \n",
    "  offlineSubsetRedo3 = signals[ signals$angle %in% angles, ]\n",
    "  reshapeSS(offlineSubsetRedo3, varSignal = \"avgSignal\")\n",
    "}\n",
    "\n",
    "keepVars = c(\"posXY\", \"posX\", \"posY\", \"orientation\", \"angle\")\n",
    "onlineCVSummaryRedo3 = reshapeSS(offlineRedo3, keepVars = keepVars,\n",
    "                            sampleAngle = TRUE)"
   ]
  },
  {
   "cell_type": "code",
   "execution_count": null,
   "metadata": {},
   "outputs": [],
   "source": [
    "K = 20\n",
    "err = rep(0, K)\n",
    "\n",
    "for (j in 1:v) {\n",
    "  onlineFoldRedo3 = subset(onlineCVSummaryRedo3, \n",
    "                      posXY %in% permuteLocs[ , j])\n",
    "  offlineFoldRedo3 = subset(offlineSummaryRedo3,\n",
    "                       posXY %in% permuteLocs[ , -j])\n",
    "  actualFoldRedo3 = onlineFoldRedo3[ , c(\"posX\", \"posY\")]\n",
    "  \n",
    "  for (k in 1:K) {\n",
    "    estFoldRedo3 = predXY(newSignals = onlineFoldRedo3[ , 6:11],\n",
    "                     newAngles = onlineFoldRedo3[ , 4], \n",
    "                     offlineFoldRedo3, numAngles = 3, k = k)\n",
    "    err[k] = err[k] + calcError(estFoldRedo3, actualFoldRedo3)\n",
    "  }\n",
    "}\n"
   ]
  },
  {
   "cell_type": "code",
   "execution_count": null,
   "metadata": {},
   "outputs": [],
   "source": [
    "plot(y = err, x = (1:K),  type = \"l\", lwd= 2,\n",
    "     ylim = c(900, 2100),\n",
    "     xlab = \"Number of Neighbors\",\n",
    "     ylab = \"Sum of Square Errors\")\n",
    "\n",
    "rmseMin = min(err)\n",
    "kMin = which(err == rmseMin)[1]\n",
    "segments(x0 = 0, x1 = kMin, y0 = rmseMin, col = gray(0.4), \n",
    "         lty = 2, lwd = 2)\n",
    "segments(x0 = kMin, x1 = kMin, y0 = 1100,  y1 = rmseMin, \n",
    "         col = grey(0.4), lty = 2, lwd = 2)\n",
    "\n",
    "#mtext(kMin, side = 1, line = 1, at = kMin, col = grey(0.4))\n",
    "text(x = kMin - 2, y = rmseMin + 40, \n",
    "     label = as.character(round(rmseMin)), col = grey(0.4))"
   ]
  },
  {
   "cell_type": "code",
   "execution_count": null,
   "metadata": {},
   "outputs": [],
   "source": [
    "actualXYRedo3 = onlineSummaryRedo3[ , c(\"posX\", \"posY\")]\n",
    "\n",
    "estXYk10 = predXY(newSignals = onlineSummaryRedo3[ , 6:11],\n",
    "                 newAngles = onlineSummaryRedo3[ , 4],\n",
    "                 offlineSummaryRedo3, numAngles = 3, k = 10)\n",
    "\n",
    "errorRateSansCD = calcError(estXYk10, actualXYRedo3)\n",
    "errorRateSansCD"
   ]
  },
  {
   "cell_type": "code",
   "execution_count": null,
   "metadata": {},
   "outputs": [],
   "source": [
    "errorRateSansCD"
   ]
  },
  {
   "cell_type": "markdown",
   "metadata": {},
   "source": [
    "# Results"
   ]
  },
  {
   "cell_type": "code",
   "execution_count": null,
   "metadata": {},
   "outputs": [],
   "source": [
    "errorRateWithBoth"
   ]
  },
  {
   "cell_type": "code",
   "execution_count": null,
   "metadata": {},
   "outputs": [],
   "source": [
    "errorRateSansC0"
   ]
  },
  {
   "cell_type": "code",
   "execution_count": null,
   "metadata": {},
   "outputs": [],
   "source": [
    "errorRateSansCD"
   ]
  },
  {
   "cell_type": "markdown",
   "metadata": {},
   "source": [
    "> The error rates for each scenario of this case study are shown below:\n",
    "\n",
    "| Dataset | Error Rate |\n",
    "| :-----: | :--------: |\n",
    "| errorRateWithBoth | 244.206966666667 |\n",
    "| errorRateSansC0 | 252.336966666667 |\n",
    "| errorRateSansCD | 296.4563 |\n",
    "\n",
    "> Of the two MAC addresses, \"00:0f:a3:39:e1:c0\" and \"00:0f:a3:39:dd:cd\", the former yields the better prediction of location. Consequently, given the choice between the two, the MAC address \"00:0f:a3:39:e1:c0\" should be used over \"00:0f:a3:39:dd:cd\" due to its lower error rate. However, as reflected in the below table, using the data for both MAC addresses simultaneously yield more accurate prediction of location."
   ]
  },
  {
   "cell_type": "code",
   "execution_count": null,
   "metadata": {},
   "outputs": [],
   "source": [
    "names(offlineRedo)"
   ]
  },
  {
   "cell_type": "code",
   "execution_count": null,
   "metadata": {},
   "outputs": [],
   "source": [
    "names(offlineRedoSummary)"
   ]
  },
  {
   "cell_type": "code",
   "execution_count": null,
   "metadata": {},
   "outputs": [],
   "source": [
    "dist<-function(point1, point2){\n",
    "    sum=0\n",
    "    for (i in 1:length(point1)){\n",
    "        sum=sum+(point2[i]-point1[i])^2\n",
    "    }\n",
    "    return(sqrt(sum))\n",
    "}\n",
    "\n",
    "knn<-function(k, data, loc, target_loc){\n",
    "temp<-data  # make a copy of the array,  not sure if needed, but being safe\n",
    "    temp$dist=apply(X=temp[,-target_loc],1,FUN=dist, loc)\n",
    "    temp<-temp[order(temp$dist),]\n",
    "    nn=temp[1:k,target_loc]\n",
    "    vote=sort(table(nn),decreasing=TRUE)[1]\n",
    "    val<-names(vote)\n",
    "    return(names(vote)) \n",
    "    }\n"
   ]
  },
  {
   "cell_type": "code",
   "execution_count": null,
   "metadata": {},
   "outputs": [],
   "source": [
    "knn(3, online, c(0,0), c(3, 4))"
   ]
  },
  {
   "cell_type": "code",
   "execution_count": null,
   "metadata": {},
   "outputs": [],
   "source": [
    "offlineRedo[1,]"
   ]
  },
  {
   "cell_type": "code",
   "execution_count": null,
   "metadata": {},
   "outputs": [],
   "source": [
    "onlineRedoSummary2[1,]"
   ]
  },
  {
   "cell_type": "markdown",
   "metadata": {},
   "source": [
    "# Weighted KNN"
   ]
  },
  {
   "cell_type": "code",
   "execution_count": null,
   "metadata": {},
   "outputs": [],
   "source": [
    "findNN = function(newSignal, trainSubset) {\n",
    "  diffs = apply(trainSubset[ , 4:9], 1, \n",
    "                function(x) x - newSignal)\n",
    "  dists = apply(diffs, 2, function(x) 1/sqrt(sum(x^2)) )\n",
    "  closest = order(dists)\n",
    "  return(trainSubset[closest, 1:3 ])\n",
    "}"
   ]
  },
  {
   "cell_type": "code",
   "execution_count": null,
   "metadata": {},
   "outputs": [],
   "source": [
    "actualXYRedo = onlineSummaryRedo[ , c(\"posX\", \"posY\")]\n",
    "\n",
    "estXYk3_weighted = predXY(newSignals = onlineSummaryRedo[ , 6:11],\n",
    "                 newAngles = onlineSummaryRedo[ , 4],\n",
    "                 offlineSummaryRedo, numAngles = 3, k = 3)\n",
    "\n",
    "errorRateWithBoth_weighted = calcError(estXYk3, actualXYRedo)\n",
    "errorRateWithBoth_weighted"
   ]
  },
  {
   "cell_type": "code",
   "execution_count": null,
   "metadata": {},
   "outputs": [],
   "source": []
  }
 ],
 "metadata": {
  "kernelspec": {
   "display_name": "R",
   "language": "R",
   "name": "ir"
  },
  "language_info": {
   "codemirror_mode": "r",
   "file_extension": ".r",
   "mimetype": "text/x-r-source",
   "name": "R",
   "pygments_lexer": "r",
   "version": "3.4.3"
  }
 },
 "nbformat": 4,
 "nbformat_minor": 2
}
