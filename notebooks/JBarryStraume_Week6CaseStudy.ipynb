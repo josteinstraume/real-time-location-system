{
 "cells": [
  {
   "cell_type": "markdown",
   "metadata": {},
   "source": [
    "# Real Time Location System\n",
    "## MSDS 7333 - Section 404\n",
    "## Unit 6: Case Study\n",
    "\n",
    "[Data Science @ Southern Methodist University](https://datascience.smu.edu/)"
   ]
  },
  {
   "cell_type": "markdown",
   "metadata": {},
   "source": [
    "# Table of Contents\n",
    "* [Team Members](#Team-Members)\n",
    "* [Abstract](#Abstract)\n",
    "* [Introduction](#Introduction)\n",
    "* [Literature Review](#Literature-Review)\n",
    "* [Background](#Background)\n",
    "* [Methods](#Methods)\n",
    "* [Results](#Results)\n",
    "* [Future Work, Discussion, and Conclusion](#Conclusion)\n",
    "* [References](#References)"
   ]
  },
  {
   "cell_type": "markdown",
   "metadata": {},
   "source": [
    "# <a name=\"Team-Members\"></a>Team Members\n",
    "* [Jostein Barry-Straume](https://github.com/josteinstraume)"
   ]
  },
  {
   "cell_type": "markdown",
   "metadata": {},
   "source": [
    "# <a name=\"Abstract\"></a>Abstract"
   ]
  },
  {
   "cell_type": "markdown",
   "metadata": {},
   "source": [
    "# <a name=\"Introduction\"></a>Introduction"
   ]
  },
  {
   "cell_type": "markdown",
   "metadata": {},
   "source": [
    "# <a name=\"Literature-Review\"></a>Literature Review"
   ]
  },
  {
   "cell_type": "markdown",
   "metadata": {},
   "source": [
    "# <a name=\"Background\"></a>Background\n",
    "### Import Dataset\n",
    "\n",
    "\n",
    "| Variable | Description |\n",
    "| :------: | :-----------: |\n",
    "| text | text | "
   ]
  },
  {
   "cell_type": "code",
   "execution_count": 1,
   "metadata": {},
   "outputs": [],
   "source": [
    "#%%capture\n",
    "#import warnings\n",
    "#warnings.filterwarnings('ignore')\n",
    "import pandas as pd\n",
    "import numpy as np\n",
    "import matplotlib.pyplot as plt\n",
    "\n",
    "\n",
    "df = pd.read_csv('../data/offline_final_trace.txt', sep=';', delimiter='\\n')\n"
   ]
  },
  {
   "cell_type": "code",
   "execution_count": 2,
   "metadata": {},
   "outputs": [],
   "source": [
    "#%load_ext rpy2.ipython"
   ]
  },
  {
   "cell_type": "code",
   "execution_count": 3,
   "metadata": {
    "scrolled": true
   },
   "outputs": [
    {
     "data": {
      "text/html": [
       "<div>\n",
       "<style scoped>\n",
       "    .dataframe tbody tr th:only-of-type {\n",
       "        vertical-align: middle;\n",
       "    }\n",
       "\n",
       "    .dataframe tbody tr th {\n",
       "        vertical-align: top;\n",
       "    }\n",
       "\n",
       "    .dataframe thead th {\n",
       "        text-align: right;\n",
       "    }\n",
       "</style>\n",
       "<table border=\"1\" class=\"dataframe\">\n",
       "  <thead>\n",
       "    <tr style=\"text-align: right;\">\n",
       "      <th></th>\n",
       "      <th># timestamp=2006-02-11 08:31:58</th>\n",
       "    </tr>\n",
       "  </thead>\n",
       "  <tbody>\n",
       "    <tr>\n",
       "      <th>0</th>\n",
       "      <td># usec=250</td>\n",
       "    </tr>\n",
       "    <tr>\n",
       "      <th>1</th>\n",
       "      <td># minReadings=110</td>\n",
       "    </tr>\n",
       "    <tr>\n",
       "      <th>2</th>\n",
       "      <td>t=1139643118358;id=00:02:2D:21:0F:33;pos=0.0,0...</td>\n",
       "    </tr>\n",
       "    <tr>\n",
       "      <th>3</th>\n",
       "      <td>t=1139643118744;id=00:02:2D:21:0F:33;pos=0.0,0...</td>\n",
       "    </tr>\n",
       "    <tr>\n",
       "      <th>4</th>\n",
       "      <td>t=1139643119002;id=00:02:2D:21:0F:33;pos=0.0,0...</td>\n",
       "    </tr>\n",
       "  </tbody>\n",
       "</table>\n",
       "</div>"
      ],
      "text/plain": [
       "                     # timestamp=2006-02-11 08:31:58\n",
       "0                                         # usec=250\n",
       "1                                  # minReadings=110\n",
       "2  t=1139643118358;id=00:02:2D:21:0F:33;pos=0.0,0...\n",
       "3  t=1139643118744;id=00:02:2D:21:0F:33;pos=0.0,0...\n",
       "4  t=1139643119002;id=00:02:2D:21:0F:33;pos=0.0,0..."
      ]
     },
     "execution_count": 3,
     "metadata": {},
     "output_type": "execute_result"
    }
   ],
   "source": [
    "df.head()"
   ]
  },
  {
   "cell_type": "code",
   "execution_count": 4,
   "metadata": {},
   "outputs": [
    {
     "data": {
      "text/plain": [
       "['/Users/Jostein/anaconda3/lib/python3.6/site-packages/rpy2']"
      ]
     },
     "execution_count": 4,
     "metadata": {},
     "output_type": "execute_result"
    }
   ],
   "source": [
    "# Sources:\n",
    "# http://rpy.sourceforge.net/rpy2/doc-2.4/html/overview.html#installation\n",
    "# http://rpy2.readthedocs.io/en/version_2.8.x/introduction.html\n",
    "# \n",
    "import rpy2\n",
    "rpy2.__path__\n",
    "#from rpy2.robjects.packages import importr\n"
   ]
  },
  {
   "cell_type": "code",
   "execution_count": 5,
   "metadata": {},
   "outputs": [
    {
     "name": "stdout",
     "output_type": "stream",
     "text": [
      "2.9.1\n"
     ]
    }
   ],
   "source": [
    "print(rpy2.__version__)"
   ]
  },
  {
   "cell_type": "code",
   "execution_count": 6,
   "metadata": {},
   "outputs": [],
   "source": [
    "%load_ext rpy2.ipython"
   ]
  },
  {
   "cell_type": "code",
   "execution_count": 17,
   "metadata": {},
   "outputs": [],
   "source": [
    "#import rpy2\n",
    "#from rpy2.robjects.packages import *\n",
    "from rpy2.robjects.packages import importr\n",
    "#from rpy2.robjects import readLines\n",
    "import rpy2.robjects as robjects\n",
    "base = importr('base')"
   ]
  },
  {
   "cell_type": "code",
   "execution_count": 18,
   "metadata": {},
   "outputs": [
    {
     "name": "stdout",
     "output_type": "stream",
     "text": [
      "rpy2.robjects.packages.Package as a <module 'base'>\n"
     ]
    }
   ],
   "source": [
    "print(base)"
   ]
  },
  {
   "cell_type": "code",
   "execution_count": 19,
   "metadata": {},
   "outputs": [],
   "source": [
    "txt = base.readLines('../data/offline_final_trace.txt')"
   ]
  },
  {
   "cell_type": "code",
   "execution_count": 42,
   "metadata": {},
   "outputs": [
    {
     "name": "stdout",
     "output_type": "stream",
     "text": [
      "Min.: 1.600\n",
      "\n",
      "1st Qu.: 2.163\n",
      "\n",
      "Median: 4.000\n",
      "\n",
      "Mean: 3.488\n",
      "\n",
      "3rd Qu.: 4.454\n",
      "\n",
      "Max.: 5.100\n",
      "\n",
      "Stem-and-leaf plot of Old Faithful eruption duration data\n",
      "\n",
      "\n",
      "  The decimal point is \n",
      "1 digit(s) to the left of the |\n",
      "\n",
      "\n",
      "  16 | \n",
      "0\n",
      "7\n",
      "0\n",
      "3\n",
      "5\n",
      "5\n",
      "5\n",
      "5\n",
      "5\n",
      "5\n",
      "8\n",
      "8\n",
      "\n",
      "\n",
      "  18 | \n",
      "0\n",
      "0\n",
      "0\n",
      "0\n",
      "2\n",
      "2\n",
      "2\n",
      "3\n",
      "3\n",
      "3\n",
      "3\n",
      "3\n",
      "3\n",
      "3\n",
      "5\n",
      "5\n",
      "7\n",
      "7\n",
      "7\n",
      "7\n",
      "7\n",
      "7\n",
      "7\n",
      "7\n",
      "8\n",
      "8\n",
      "8\n",
      "8\n",
      "2\n",
      "2\n",
      "3\n",
      "3\n",
      "5\n",
      "7\n",
      "7\n",
      "7\n",
      "8\n",
      "8\n",
      "8\n",
      "\n",
      "\n",
      "  20 | \n",
      "0\n",
      "0\n",
      "0\n",
      "0\n",
      "2\n",
      "2\n",
      "2\n",
      "3\n",
      "3\n",
      "7\n",
      "8\n",
      "8\n",
      "0\n",
      "0\n",
      "0\n",
      "3\n",
      "5\n",
      "7\n",
      "7\n",
      "8\n",
      "\n",
      "\n",
      "  22 | \n",
      "0\n",
      "0\n",
      "0\n",
      "2\n",
      "3\n",
      "3\n",
      "5\n",
      "5\n",
      "7\n",
      "8\n",
      "0\n",
      "2\n",
      "3\n",
      "5\n",
      "7\n",
      "8\n",
      "\n",
      "\n",
      "  24 | \n",
      "0\n",
      "0\n",
      "2\n",
      "2\n",
      "8\n",
      "\n",
      "\n",
      "  26 | \n",
      "2\n",
      "3\n",
      "\n",
      "\n",
      "  28 | \n",
      "0\n",
      "8\n",
      "0\n",
      "\n",
      "\n",
      "  30 | \n",
      "7\n",
      "\n",
      "\n",
      "  32 | \n",
      "2\n",
      "3\n",
      "3\n",
      "7\n",
      "\n",
      "\n",
      "  34 | \n",
      "2\n",
      "5\n",
      "0\n",
      "0\n",
      "7\n",
      "7\n",
      "\n",
      "\n",
      "  36 | \n",
      "0\n",
      "0\n",
      "0\n",
      "0\n",
      "8\n",
      "2\n",
      "3\n",
      "5\n",
      "7\n",
      "7\n",
      "\n",
      "\n",
      "  38 | \n",
      "2\n",
      "3\n",
      "3\n",
      "3\n",
      "3\n",
      "3\n",
      "5\n",
      "5\n",
      "8\n",
      "2\n",
      "2\n",
      "2\n",
      "5\n",
      "5\n",
      "7\n",
      "7\n",
      "\n",
      "\n",
      "  40 | \n",
      "0\n",
      "0\n",
      "0\n",
      "0\n",
      "0\n",
      "0\n",
      "3\n",
      "3\n",
      "5\n",
      "7\n",
      "7\n",
      "8\n",
      "8\n",
      "8\n",
      "8\n",
      "8\n",
      "0\n",
      "0\n",
      "2\n",
      "2\n",
      "3\n",
      "3\n",
      "5\n",
      "5\n",
      "5\n",
      "5\n",
      "7\n",
      "7\n",
      "7\n",
      "7\n",
      "8\n",
      "\n",
      "\n",
      "  42 | \n",
      "0\n",
      "3\n",
      "3\n",
      "3\n",
      "5\n",
      "5\n",
      "5\n",
      "5\n",
      "7\n",
      "7\n",
      "8\n",
      "8\n",
      "0\n",
      "0\n",
      "2\n",
      "3\n",
      "3\n",
      "3\n",
      "3\n",
      "3\n",
      "5\n",
      "5\n",
      "5\n",
      "5\n",
      "7\n",
      "7\n",
      "7\n",
      "7\n",
      "8\n",
      "\n",
      "\n",
      "  44 | \n",
      "0\n",
      "2\n",
      "2\n",
      "2\n",
      "2\n",
      "3\n",
      "3\n",
      "5\n",
      "5\n",
      "5\n",
      "7\n",
      "7\n",
      "8\n",
      "0\n",
      "0\n",
      "0\n",
      "0\n",
      "0\n",
      "0\n",
      "0\n",
      "0\n",
      "2\n",
      "3\n",
      "3\n",
      "3\n",
      "3\n",
      "3\n",
      "5\n",
      "7\n",
      "7\n",
      "7\n",
      "8\n",
      "8\n",
      "8\n",
      "8\n",
      "\n",
      "\n",
      "  46 | \n",
      "0\n",
      "0\n",
      "0\n",
      "0\n",
      "2\n",
      "3\n",
      "3\n",
      "3\n",
      "5\n",
      "7\n",
      "7\n",
      "0\n",
      "0\n",
      "0\n",
      "0\n",
      "0\n",
      "0\n",
      "2\n",
      "3\n",
      "5\n",
      "7\n",
      "8\n",
      "\n",
      "\n",
      "  48 | \n",
      "0\n",
      "0\n",
      "0\n",
      "0\n",
      "0\n",
      "0\n",
      "2\n",
      "2\n",
      "3\n",
      "3\n",
      "5\n",
      "8\n",
      "0\n",
      "0\n",
      "3\n",
      "3\n",
      "3\n",
      "\n",
      "\n",
      "  50 | \n",
      "0\n",
      "3\n",
      "7\n",
      "0\n",
      "\n",
      "\n",
      "\n",
      "\n"
     ]
    },
    {
     "data": {
      "text/plain": [
       "rpy2.rinterface.NULL"
      ]
     },
     "execution_count": 42,
     "metadata": {},
     "output_type": "execute_result"
    }
   ],
   "source": [
    "from rpy2.robjects.vectors import DataFrame\n",
    "from rpy2.robjects.packages import importr, data\n",
    "\n",
    "r_base = importr('base')\n",
    "\n",
    "datasets = importr('datasets')\n",
    "faithful_data = data(datasets).fetch('faithful')['faithful']\n",
    "\n",
    "edsummary = r_base.summary(faithful_data.rx2(\"eruptions\"))\n",
    "for k, v in edsummary.items():\n",
    "   print(\"%s: %.3f\\n\" %(k, v))\n",
    "\n",
    "graphics = importr('graphics')\n",
    "\n",
    "print(\"Stem-and-leaf plot of Old Faithful eruption duration data\")\n",
    "graphics.stem(faithful_data.rx2(\"eruptions\"))"
   ]
  },
  {
   "cell_type": "code",
   "execution_count": 44,
   "metadata": {},
   "outputs": [
    {
     "data": {
      "text/html": [
       "\n",
       "    <span>IntVector with 1 elements.</span>\n",
       "    <table>\n",
       "      <tbody>\n",
       "      <tr>\n",
       "      \n",
       "      <td>\n",
       "        0\n",
       "      </td>\n",
       "      \n",
       "      </tr>\n",
       "      </tbody>\n",
       "    </table>\n",
       "    "
      ],
      "text/plain": [
       "R object with classes: ('integer',) mapped to:\n",
       "<IntVector - Python:0x1056a3888 / R:0x7fb6768369c8>\n",
       "[0]"
      ]
     },
     "execution_count": 44,
     "metadata": {},
     "output_type": "execute_result"
    }
   ],
   "source": [
    "from rpy2 import *\n",
    "from rpy2.robjects.vectors import DataFrame\n",
    "from rpy2.robjects.packages import importr, data\n",
    "\n",
    "r_base = importr('base')\n",
    "txt = r_base.readLines('../data/offline_final_trace.txt')\n",
    "r_base.sum(r_base.substr(txt,1,1) == \"#\")"
   ]
  },
  {
   "cell_type": "code",
   "execution_count": 28,
   "metadata": {},
   "outputs": [
    {
     "data": {
      "text/html": [
       "\n",
       "    <span>IntVector with 1 elements.</span>\n",
       "    <table>\n",
       "      <tbody>\n",
       "      <tr>\n",
       "      \n",
       "      <td>\n",
       "        0\n",
       "      </td>\n",
       "      \n",
       "      </tr>\n",
       "      </tbody>\n",
       "    </table>\n",
       "    "
      ],
      "text/plain": [
       "R object with classes: ('integer',) mapped to:\n",
       "<IntVector - Python:0x10d35fc48 / R:0x7fb67a3161c8>\n",
       "[0]"
      ]
     },
     "execution_count": 28,
     "metadata": {},
     "output_type": "execute_result"
    }
   ],
   "source": [
    "base.sum(base.substr(txt,1,1) == \"#\")"
   ]
  },
  {
   "cell_type": "code",
   "execution_count": 45,
   "metadata": {},
   "outputs": [
    {
     "data": {
      "text/html": [
       "\n",
       "    <span>IntVector with 1 elements.</span>\n",
       "    <table>\n",
       "      <tbody>\n",
       "      <tr>\n",
       "      \n",
       "      <td>\n",
       "        151,392\n",
       "      </td>\n",
       "      \n",
       "      </tr>\n",
       "      </tbody>\n",
       "    </table>\n",
       "    "
      ],
      "text/plain": [
       "R object with classes: ('integer',) mapped to:\n",
       "<IntVector - Python:0x10d280e48 / R:0x7fb676836a28>\n",
       "[151,392]"
      ]
     },
     "execution_count": 45,
     "metadata": {},
     "output_type": "execute_result"
    }
   ],
   "source": [
    "base.length(txt)"
   ]
  },
  {
   "cell_type": "code",
   "execution_count": 46,
   "metadata": {},
   "outputs": [
    {
     "name": "stdout",
     "output_type": "stream",
     "text": [
      "[1] \"# usec=250\"                                                                                                                                                                                                                                                                                                                                                                                                                                                      \n",
      "[2] \"# minReadings=110\"                                                                                                                                                                                                                                                                                                                                                                                                                                               \n",
      "[3] \"t=1139643118358;id=00:02:2D:21:0F:33;pos=0.0,0.0,0.0;degree=0.0;00:14:bf:b1:97:8a=-38,2437000000,3;00:14:bf:b1:97:90=-56,2427000000,3;00:0f:a3:39:e1:c0=-53,2462000000,3;00:14:bf:b1:97:8d=-65,2442000000,3;00:14:bf:b1:97:81=-65,2422000000,3;00:14:bf:3b:c7:c6=-66,2432000000,3;00:0f:a3:39:dd:cd=-75,2412000000,3;00:0f:a3:39:e0:4b=-78,2462000000,3;00:0f:a3:39:e2:10=-87,2437000000,3;02:64:fb:68:52:e6=-88,2447000000,1;02:00:42:55:31:00=-84,2457000000,1\"\n",
      "[4] \"t=1139643118744;id=00:02:2D:21:0F:33;pos=0.0,0.0,0.0;degree=0.0;00:14:bf:b1:97:8a=-38,2437000000,3;00:0f:a3:39:e1:c0=-54,2462000000,3;00:14:bf:b1:97:90=-56,2427000000,3;00:14:bf:3b:c7:c6=-67,2432000000,3;00:14:bf:b1:97:81=-66,2422000000,3;00:14:bf:b1:97:8d=-70,2442000000,3;00:0f:a3:39:e0:4b=-79,2462000000,3;00:0f:a3:39:dd:cd=-73,2412000000,3;00:0f:a3:39:e2:10=-83,2437000000,3;02:00:42:55:31:00=-85,2457000000,1\"                                   \n",
      "[5] \"t=1139643119002;id=00:02:2D:21:0F:33;pos=0.0,0.0,0.0;degree=0.0;00:14:bf:b1:97:8a=-38,2437000000,3;00:0f:a3:39:e1:c0=-54,2462000000,3;00:14:bf:b1:97:90=-57,2427000000,3;00:14:bf:b1:97:81=-66,2422000000,3;00:14:bf:3b:c7:c6=-69,2432000000,3;00:14:bf:b1:97:8d=-70,2442000000,3;00:0f:a3:39:e0:4b=-78,2462000000,3;00:0f:a3:39:e2:10=-83,2437000000,3;00:0f:a3:39:dd:cd=-65,2412000000,3;02:64:fb:68:52:e6=-90,2447000000,1\"                                   \n",
      "[6] \"t=1139643119263;id=00:02:2D:21:0F:33;pos=0.0,0.0,0.0;degree=0.0;00:14:bf:b1:97:8a=-38,2437000000,3;00:14:bf:b1:97:90=-52,2427000000,3;00:0f:a3:39:e1:c0=-54,2462000000,3;00:14:bf:b1:97:81=-64,2422000000,3;00:14:bf:3b:c7:c6=-68,2432000000,3;00:14:bf:b1:97:8d=-74,2442000000,3;00:0f:a3:39:dd:cd=-78,2412000000,3;00:0f:a3:39:e0:4b=-78,2462000000,3;00:0f:a3:39:e2:10=-83,2437000000,3;02:00:42:55:31:00=-84,2457000000,1;02:64:fb:68:52:e6=-87,2447000000,1\"\n",
      "[7] \"t=1139643119538;id=00:02:2D:21:0F:33;pos=0.0,0.0,0.0;degree=0.0;00:14:bf:b1:97:8a=-46,2437000000,3;00:0f:a3:39:e1:c0=-55,2462000000,3;00:14:bf:b1:97:90=-57,2427000000,3;00:14:bf:3b:c7:c6=-67,2432000000,3;00:0f:a3:39:dd:cd=-66,2412000000,3;00:0f:a3:39:e0:4b=-80,2462000000,3;00:0f:a3:39:e2:10=-83,2437000000,3;00:14:bf:b1:97:81=-66,2422000000,3;02:00:42:55:31:00=-87,2457000000,1\"                                                                      \n",
      "[8] \"t=1139643119818;id=00:02:2D:21:0F:33;pos=0.0,0.0,0.0;degree=0.0;00:14:bf:b1:97:8a=-37,2437000000,3;00:0f:a3:39:e1:c0=-54,2462000000,3;00:14:bf:b1:97:81=-65,2422000000,3;00:14:bf:b1:97:8d=-67,2442000000,3;00:14:bf:3b:c7:c6=-67,2432000000,3;00:0f:a3:39:e0:4b=-79,2462000000,3;00:0f:a3:39:dd:cd=-67,2412000000,3;00:0f:a3:39:e2:10=-89,2437000000,3;02:00:42:55:31:00=-86,2457000000,1;02:64:fb:68:52:e6=-90,2447000000,1\"                                   \n",
      "[9] \"t=1139643120075;id=00:02:2D:21:0F:33;pos=0.0,0.0,0.0;degree=0.0;00:14:bf:b1:97:8a=-38,2437000000,3;00:0f:a3:39:e1:c0=-54,2462000000,3;00:14:bf:b1:97:90=-56,2427000000,3;00:14:bf:b1:97:8d=-72,2442000000,3;00:0f:a3:39:dd:cd=-73,2412000000,3;00:0f:a3:39:e0:4b=-78,2462000000,3;00:14:bf:b1:97:81=-65,2422000000,3;00:0f:a3:39:e2:10=-89,2437000000,3;02:64:fb:68:52:e6=-89,2447000000,1\"                                                                      \n",
      "\n"
     ]
    }
   ],
   "source": [
    "print(txt[1:10])"
   ]
  },
  {
   "cell_type": "code",
   "execution_count": 59,
   "metadata": {},
   "outputs": [],
   "source": [
    "didthiswork = r_base.strsplit(txt, \";\")"
   ]
  },
  {
   "cell_type": "code",
   "execution_count": 207,
   "metadata": {},
   "outputs": [
    {
     "data": {
      "text/html": [
       "\n",
       "    <span>StrVector with 15 elements.</span>\n",
       "    <table>\n",
       "      <tbody>\n",
       "      <tr>\n",
       "      \n",
       "      <td>\n",
       "        't=113964...\n",
       "      </td>\n",
       "      \n",
       "      <td>\n",
       "        'id=00:02...\n",
       "      </td>\n",
       "      \n",
       "      <td>\n",
       "        'pos=0.0,...\n",
       "      </td>\n",
       "      \n",
       "      <td>\n",
       "        'degree=0...\n",
       "      </td>\n",
       "      \n",
       "      <td>\n",
       "        ...\n",
       "      </td>\n",
       "      \n",
       "      <td>\n",
       "        '00:0f:a3...\n",
       "      </td>\n",
       "      \n",
       "      <td>\n",
       "        '00:0f:a3...\n",
       "      </td>\n",
       "      \n",
       "      <td>\n",
       "        '02:64:fb...\n",
       "      </td>\n",
       "      \n",
       "      <td>\n",
       "        '02:00:42...\n",
       "      </td>\n",
       "      \n",
       "      </tr>\n",
       "      </tbody>\n",
       "    </table>\n",
       "    "
      ],
      "text/plain": [
       "R object with classes: ('character',) mapped to:\n",
       "<StrVector - Python:0x10db66148 / R:0x7fb667b9bca0>\n",
       "['t=113964..., 'id=00:02..., 'pos=0.0,..., 'degree=0..., ..., '00:0f:a3..., '00:0f:a3..., '02:64:fb..., '02:00:42...]"
      ]
     },
     "execution_count": 207,
     "metadata": {},
     "output_type": "execute_result"
    }
   ],
   "source": [
    "didthiswork[3]"
   ]
  },
  {
   "cell_type": "code",
   "execution_count": 69,
   "metadata": {},
   "outputs": [
    {
     "ename": "SyntaxError",
     "evalue": "invalid syntax (<ipython-input-69-957956fae86a>, line 2)",
     "output_type": "error",
     "traceback": [
      "\u001b[0;36m  File \u001b[0;32m\"<ipython-input-69-957956fae86a>\"\u001b[0;36m, line \u001b[0;32m2\u001b[0m\n\u001b[0;31m    tmp = r_base.matrix(tokens[ - (1:10) ], ncol = 4, byrow = TRUE)\u001b[0m\n\u001b[0m                                    ^\u001b[0m\n\u001b[0;31mSyntaxError\u001b[0m\u001b[0;31m:\u001b[0m invalid syntax\n"
     ]
    }
   ],
   "source": [
    "for item in didthiswork:\n",
    "    tmp = r_base.matrix(tokens[ - (1:10) ], ncol = 4, byrow = TRUE)\n",
    "    r_base.cbind(matrix(tokens[c(2, 4, 6:8, 10)], nrow = nrow(tmp), ncol = 6, byrow = TRUE), tmp)"
   ]
  },
  {
   "cell_type": "code",
   "execution_count": null,
   "metadata": {},
   "outputs": [],
   "source": []
  },
  {
   "cell_type": "code",
   "execution_count": 73,
   "metadata": {},
   "outputs": [
    {
     "ename": "SyntaxError",
     "evalue": "invalid syntax (<ipython-input-73-e5605300c71c>, line 4)",
     "output_type": "error",
     "traceback": [
      "\u001b[0;36m  File \u001b[0;32m\"<ipython-input-73-e5605300c71c>\"\u001b[0;36m, line \u001b[0;32m4\u001b[0m\n\u001b[0;31m    tmp <- r_base.matrix(tokens[ - (1:10) ], ncol = 4, byrow = TRUE)\u001b[0m\n\u001b[0m      ^\u001b[0m\n\u001b[0;31mSyntaxError\u001b[0m\u001b[0;31m:\u001b[0m invalid syntax\n"
     ]
    }
   ],
   "source": [
    "processLine = base.function(x)\n",
    "{\n",
    "    tokens <- r_base.strsplit(x, \"[;=,]\")[[1]]\n",
    "    tmp <- r_base.matrix(tokens[ - (1:10) ], ncol = 4, byrow = TRUE)\n",
    "    r_base.cbind(matrix(tokens[c(2, 4, 6:8, 10)], nrow = nrow(tmp), ncol = 6, byrow = TRUE), tmp)\n",
    "}"
   ]
  },
  {
   "cell_type": "code",
   "execution_count": 77,
   "metadata": {},
   "outputs": [
    {
     "ename": "NameError",
     "evalue": "name 'x' is not defined",
     "output_type": "error",
     "traceback": [
      "\u001b[0;31m---------------------------------------------------------------------------\u001b[0m",
      "\u001b[0;31mNameError\u001b[0m                                 Traceback (most recent call last)",
      "\u001b[0;32m<ipython-input-77-f474854ef204>\u001b[0m in \u001b[0;36m<module>\u001b[0;34m()\u001b[0m\n\u001b[0;32m----> 1\u001b[0;31m \u001b[0mtokens\u001b[0m \u001b[0;34m=\u001b[0m \u001b[0mr_base\u001b[0m\u001b[0;34m.\u001b[0m\u001b[0mstrsplit\u001b[0m\u001b[0;34m(\u001b[0m\u001b[0mx\u001b[0m\u001b[0;34m,\u001b[0m \u001b[0;34m\"[;=,]\"\u001b[0m\u001b[0;34m)\u001b[0m\u001b[0;34m[\u001b[0m\u001b[0;34m[\u001b[0m\u001b[0;36m1\u001b[0m\u001b[0;34m]\u001b[0m\u001b[0;34m]\u001b[0m\u001b[0;34m\u001b[0m\u001b[0m\n\u001b[0m",
      "\u001b[0;31mNameError\u001b[0m: name 'x' is not defined"
     ]
    }
   ],
   "source": [
    "tokens = r_base.strsplit(x, \"[;=,]\")[[1]]"
   ]
  },
  {
   "cell_type": "code",
   "execution_count": null,
   "metadata": {},
   "outputs": [],
   "source": []
  },
  {
   "cell_type": "code",
   "execution_count": 100,
   "metadata": {},
   "outputs": [],
   "source": [
    "from rpy2.robjects.packages import SignatureTranslatedAnonymousPackage\n",
    "from rpy2.robjects.vectors import DataFrame\n",
    "from rpy2.robjects.packages import importr, data\n",
    "\n",
    "r_base = importr('base')\n",
    "\n",
    "string = \"\"\"\n",
    "txt <- function()\n",
    "{\n",
    "    return(readLines('../data/offline_final_trace.txt'))\n",
    "}\n",
    "\n",
    "processLine <- function(x) {\n",
    "    tokens = strsplit(x, \"[;=,]\")[[1]]\n",
    "    if (length(tokens) == 10) {\n",
    "        return(NULL)\n",
    "    }\n",
    "    tmp = matrix(tokens[ - (1:10) ], , 4, byrow = TRUE)\n",
    "    cbind(matrix(tokens[c(2, 4, 6:8, 10)], nrow(tmp), 6, byrow = TRUE), tmp)\n",
    "}\n",
    "\n",
    "lines <- function(x) {\n",
    "    return(x[ substr(x, 1, 1) != \"#\" ])\n",
    "}\n",
    "\n",
    "tmp <- function(x, y) {\n",
    "    return(lapply(x, y))\n",
    "}\n",
    "\n",
    "offline <- function(x) {\n",
    "    return(as.data.frame(do.call(\"rbind\", x), stringsAsFactors = FALSE))\n",
    "}\n",
    "\n",
    "\"\"\"\n",
    "\n",
    "tutorial = SignatureTranslatedAnonymousPackage(string, \"tutorial\")"
   ]
  },
  {
   "cell_type": "code",
   "execution_count": 119,
   "metadata": {},
   "outputs": [
    {
     "ename": "NameError",
     "evalue": "name 'x' is not defined",
     "output_type": "error",
     "traceback": [
      "\u001b[0;31m---------------------------------------------------------------------------\u001b[0m",
      "\u001b[0;31mNameError\u001b[0m                                 Traceback (most recent call last)",
      "\u001b[0;32m<ipython-input-119-0f607b423a92>\u001b[0m in \u001b[0;36m<module>\u001b[0;34m()\u001b[0m\n\u001b[0;32m----> 1\u001b[0;31m \u001b[0mdf_offline\u001b[0m \u001b[0;34m=\u001b[0m \u001b[0mtutorial\u001b[0m\u001b[0;34m.\u001b[0m\u001b[0moffline\u001b[0m\u001b[0;34m(\u001b[0m\u001b[0mtutorial\u001b[0m\u001b[0;34m.\u001b[0m\u001b[0mtmp\u001b[0m\u001b[0;34m(\u001b[0m\u001b[0mtutorial\u001b[0m\u001b[0;34m.\u001b[0m\u001b[0mlines\u001b[0m\u001b[0;34m(\u001b[0m\u001b[0mtutorial\u001b[0m\u001b[0;34m.\u001b[0m\u001b[0mtxt\u001b[0m\u001b[0;34m(\u001b[0m\u001b[0;34m)\u001b[0m\u001b[0;34m)\u001b[0m\u001b[0;34m,\u001b[0m \u001b[0mtutorial\u001b[0m\u001b[0;34m.\u001b[0m\u001b[0mprocessLine\u001b[0m\u001b[0;34m(\u001b[0m\u001b[0mx\u001b[0m\u001b[0;34m)\u001b[0m\u001b[0;34m)\u001b[0m\u001b[0;34m)\u001b[0m\u001b[0;34m\u001b[0m\u001b[0m\n\u001b[0m",
      "\u001b[0;31mNameError\u001b[0m: name 'x' is not defined"
     ]
    }
   ],
   "source": [
    "df_offline = tutorial.offline(tutorial.tmp(tutorial.lines(tutorial.txt()), tutorial.processLine(x)))"
   ]
  },
  {
   "cell_type": "code",
   "execution_count": 103,
   "metadata": {},
   "outputs": [],
   "source": [
    "txt = tutorial.txt()"
   ]
  },
  {
   "cell_type": "code",
   "execution_count": 203,
   "metadata": {},
   "outputs": [
    {
     "data": {
      "text/html": [
       "\n",
       "    <span>StrVector with 151392 elements.</span>\n",
       "    <table>\n",
       "      <tbody>\n",
       "      <tr>\n",
       "      \n",
       "      <td>\n",
       "        '# timest...\n",
       "      </td>\n",
       "      \n",
       "      <td>\n",
       "        '# usec=2...\n",
       "      </td>\n",
       "      \n",
       "      <td>\n",
       "        '# minRea...\n",
       "      </td>\n",
       "      \n",
       "      <td>\n",
       "        't=113964...\n",
       "      </td>\n",
       "      \n",
       "      <td>\n",
       "        ...\n",
       "      </td>\n",
       "      \n",
       "      <td>\n",
       "        't=114193...\n",
       "      </td>\n",
       "      \n",
       "      <td>\n",
       "        't=114193...\n",
       "      </td>\n",
       "      \n",
       "      <td>\n",
       "        't=114193...\n",
       "      </td>\n",
       "      \n",
       "      <td>\n",
       "        '# Trace ...\n",
       "      </td>\n",
       "      \n",
       "      </tr>\n",
       "      </tbody>\n",
       "    </table>\n",
       "    "
      ],
      "text/plain": [
       "R object with classes: ('character',) mapped to:\n",
       "<StrVector - Python:0x10d188588 / R:0x10fb14000>\n",
       "['# timest..., '# usec=2..., '# minRea..., 't=113964..., ..., 't=114193..., 't=114193..., 't=114193..., '# Trace ...]"
      ]
     },
     "execution_count": 203,
     "metadata": {},
     "output_type": "execute_result"
    }
   ],
   "source": [
    "txt"
   ]
  },
  {
   "cell_type": "code",
   "execution_count": 110,
   "metadata": {},
   "outputs": [],
   "source": [
    "lines = tutorial.lines(txt)"
   ]
  },
  {
   "cell_type": "code",
   "execution_count": 204,
   "metadata": {},
   "outputs": [
    {
     "data": {
      "text/html": [
       "\n",
       "    <span>StrVector with 146080 elements.</span>\n",
       "    <table>\n",
       "      <tbody>\n",
       "      <tr>\n",
       "      \n",
       "      <td>\n",
       "        't=113964...\n",
       "      </td>\n",
       "      \n",
       "      <td>\n",
       "        't=113964...\n",
       "      </td>\n",
       "      \n",
       "      <td>\n",
       "        't=113964...\n",
       "      </td>\n",
       "      \n",
       "      <td>\n",
       "        't=113964...\n",
       "      </td>\n",
       "      \n",
       "      <td>\n",
       "        ...\n",
       "      </td>\n",
       "      \n",
       "      <td>\n",
       "        't=114193...\n",
       "      </td>\n",
       "      \n",
       "      <td>\n",
       "        't=114193...\n",
       "      </td>\n",
       "      \n",
       "      <td>\n",
       "        't=114193...\n",
       "      </td>\n",
       "      \n",
       "      <td>\n",
       "        't=114193...\n",
       "      </td>\n",
       "      \n",
       "      </tr>\n",
       "      </tbody>\n",
       "    </table>\n",
       "    "
      ],
      "text/plain": [
       "R object with classes: ('character',) mapped to:\n",
       "<StrVector - Python:0x10e32d1c8 / R:0x10e1f2000>\n",
       "['t=113964..., 't=113964..., 't=113964..., 't=113964..., ..., 't=114193..., 't=114193..., 't=114193..., 't=114193...]"
      ]
     },
     "execution_count": 204,
     "metadata": {},
     "output_type": "execute_result"
    }
   ],
   "source": [
    "lines"
   ]
  },
  {
   "cell_type": "code",
   "execution_count": 123,
   "metadata": {},
   "outputs": [
    {
     "ename": "SyntaxError",
     "evalue": "invalid syntax (<ipython-input-123-442294bcccf3>, line 2)",
     "output_type": "error",
     "traceback": [
      "\u001b[0;36m  File \u001b[0;32m\"<ipython-input-123-442294bcccf3>\"\u001b[0;36m, line \u001b[0;32m2\u001b[0m\n\u001b[0;31m    tokens = strsplit(x, \"[;=,]\")[[1]]\u001b[0m\n\u001b[0m         ^\u001b[0m\n\u001b[0;31mSyntaxError\u001b[0m\u001b[0;31m:\u001b[0m invalid syntax\n"
     ]
    }
   ],
   "source": [
    "temp = r_base.lapply(lines, function(x)\n",
    "    tokens = strsplit(x, \"[;=,]\")[[1]]\n",
    "    if (length(tokens) == 10) {\n",
    "        return(NULL)\n",
    "    }\n",
    "    tmp = matrix(tokens[ - (1:10) ], , 4, byrow = TRUE)\n",
    "    cbind(matrix(tokens[c(2, 4, 6:8, 10)], nrow(tmp), 6, byrow = TRUE), tmp))"
   ]
  },
  {
   "cell_type": "code",
   "execution_count": 129,
   "metadata": {},
   "outputs": [],
   "source": [
    "for line in lines:\n",
    "    tmp = tutorial.processLine(line)"
   ]
  },
  {
   "cell_type": "code",
   "execution_count": 126,
   "metadata": {},
   "outputs": [
    {
     "data": {
      "text/html": [
       "\n",
       "    <span>StrVector with 146080 elements.</span>\n",
       "    <table>\n",
       "      <tbody>\n",
       "      <tr>\n",
       "      \n",
       "      <td>\n",
       "        't=113964...\n",
       "      </td>\n",
       "      \n",
       "      <td>\n",
       "        't=113964...\n",
       "      </td>\n",
       "      \n",
       "      <td>\n",
       "        't=113964...\n",
       "      </td>\n",
       "      \n",
       "      <td>\n",
       "        't=113964...\n",
       "      </td>\n",
       "      \n",
       "      <td>\n",
       "        ...\n",
       "      </td>\n",
       "      \n",
       "      <td>\n",
       "        't=114193...\n",
       "      </td>\n",
       "      \n",
       "      <td>\n",
       "        't=114193...\n",
       "      </td>\n",
       "      \n",
       "      <td>\n",
       "        't=114193...\n",
       "      </td>\n",
       "      \n",
       "      <td>\n",
       "        't=114193...\n",
       "      </td>\n",
       "      \n",
       "      </tr>\n",
       "      </tbody>\n",
       "    </table>\n",
       "    "
      ],
      "text/plain": [
       "R object with classes: ('character',) mapped to:\n",
       "<StrVector - Python:0x10e32d1c8 / R:0x10e1f2000>\n",
       "['t=113964..., 't=113964..., 't=113964..., 't=113964..., ..., 't=114193..., 't=114193..., 't=114193..., 't=114193...]"
      ]
     },
     "execution_count": 126,
     "metadata": {},
     "output_type": "execute_result"
    }
   ],
   "source": [
    "lines"
   ]
  },
  {
   "cell_type": "code",
   "execution_count": 130,
   "metadata": {},
   "outputs": [
    {
     "data": {
      "text/plain": [
       "'t=1139643118744;id=00:02:2D:21:0F:33;pos=0.0,0.0,0.0;degree=0.0;00:14:bf:b1:97:8a=-38,2437000000,3;00:0f:a3:39:e1:c0=-54,2462000000,3;00:14:bf:b1:97:90=-56,2427000000,3;00:14:bf:3b:c7:c6=-67,2432000000,3;00:14:bf:b1:97:81=-66,2422000000,3;00:14:bf:b1:97:8d=-70,2442000000,3;00:0f:a3:39:e0:4b=-79,2462000000,3;00:0f:a3:39:dd:cd=-73,2412000000,3;00:0f:a3:39:e2:10=-83,2437000000,3;02:00:42:55:31:00=-85,2457000000,1'"
      ]
     },
     "execution_count": 130,
     "metadata": {},
     "output_type": "execute_result"
    }
   ],
   "source": [
    "lines[1]"
   ]
  },
  {
   "cell_type": "code",
   "execution_count": 134,
   "metadata": {},
   "outputs": [
    {
     "data": {
      "text/html": [
       "\n",
       "    <span>IntVector with 2 elements.</span>\n",
       "    <table>\n",
       "      <tbody>\n",
       "      <tr>\n",
       "      \n",
       "      <td>\n",
       "        8\n",
       "      </td>\n",
       "      \n",
       "      <td>\n",
       "        10\n",
       "      </td>\n",
       "      \n",
       "      </tr>\n",
       "      </tbody>\n",
       "    </table>\n",
       "    "
      ],
      "text/plain": [
       "R object with classes: ('integer',) mapped to:\n",
       "<IntVector - Python:0x10d188b88 / R:0x7fb6686d5d28>\n",
       "[8, 10]"
      ]
     },
     "execution_count": 134,
     "metadata": {},
     "output_type": "execute_result"
    }
   ],
   "source": [
    "r_base.dim(tmp)"
   ]
  },
  {
   "cell_type": "code",
   "execution_count": 142,
   "metadata": {},
   "outputs": [
    {
     "name": "stdout",
     "output_type": "stream",
     "text": [
      "t=1139643118358;id=00:02:2D:21:0F:33;pos=0.0,0.0,0.0;degree=0.0;00:14:bf:b1:97:8a=-38,2437000000,3;00:14:bf:b1:97:90=-56,2427000000,3;00:0f:a3:39:e1:c0=-53,2462000000,3;00:14:bf:b1:97:8d=-65,2442000000,3;00:14:bf:b1:97:81=-65,2422000000,3;00:14:bf:3b:c7:c6=-66,2432000000,3;00:0f:a3:39:dd:cd=-75,2412000000,3;00:0f:a3:39:e0:4b=-78,2462000000,3;00:0f:a3:39:e2:10=-87,2437000000,3;02:64:fb:68:52:e6=-88,2447000000,1;02:00:42:55:31:00=-84,2457000000,1\n"
     ]
    }
   ],
   "source": [
    "print(lines[0])"
   ]
  },
  {
   "cell_type": "code",
   "execution_count": 162,
   "metadata": {},
   "outputs": [],
   "source": [
    "offline = r_base.matrix(nrow=1,ncol=10)\n",
    "for line in lines:\n",
    "    tmp = tutorial.processLine(line)\n",
    "    offline = r_base.rbind(offline, tmp)\n",
    "    "
   ]
  },
  {
   "cell_type": "code",
   "execution_count": 153,
   "metadata": {},
   "outputs": [
    {
     "name": "stdout",
     "output_type": "stream",
     "text": [
      "     [,1] [,2] [,3] [,4] [,5] [,6] [,7] [,8] [,9] [,10]\n",
      "[1,]   NA   NA   NA   NA   NA   NA   NA   NA   NA    NA\n",
      "\n",
      "     [,1] [,2] [,3] [,4] [,5] [,6] [,7] [,8] [,9] [,10]\n",
      "[1,]   NA   NA   NA   NA   NA   NA   NA   NA   NA    NA\n",
      "\n",
      "     [,1] [,2] [,3] [,4] [,5] [,6] [,7] [,8] [,9] [,10]\n",
      "[1,]   NA   NA   NA   NA   NA   NA   NA   NA   NA    NA\n",
      "[2,]   NA   NA   NA   NA   NA   NA   NA   NA   NA    NA\n",
      "\n"
     ]
    }
   ],
   "source": [
    "offline = r_base.matrix(nrow=1,ncol=10)\n",
    "testMat = r_base.matrix(nrow=1,ncol=10)\n",
    "print(offline)\n",
    "print(testMat)\n",
    "testy = r_base.rbind(offline, testMat)\n",
    "print(testy)"
   ]
  },
  {
   "cell_type": "code",
   "execution_count": 164,
   "metadata": {},
   "outputs": [
    {
     "data": {
      "text/html": [
       "\n",
       "    <span>IntVector with 2 elements.</span>\n",
       "    <table>\n",
       "      <tbody>\n",
       "      <tr>\n",
       "      \n",
       "      <td>\n",
       "        1,181,629\n",
       "      </td>\n",
       "      \n",
       "      <td>\n",
       "        10\n",
       "      </td>\n",
       "      \n",
       "      </tr>\n",
       "      </tbody>\n",
       "    </table>\n",
       "    "
      ],
      "text/plain": [
       "R object with classes: ('integer',) mapped to:\n",
       "<IntVector - Python:0x10d4fbd88 / R:0x7fb669f62ba8>\n",
       "[1,181,629, 10]"
      ]
     },
     "execution_count": 164,
     "metadata": {},
     "output_type": "execute_result"
    }
   ],
   "source": [
    "r_base.dim(offline)"
   ]
  },
  {
   "cell_type": "code",
   "execution_count": 166,
   "metadata": {},
   "outputs": [
    {
     "data": {
      "text/plain": [
       "NA_character_"
      ]
     },
     "execution_count": 166,
     "metadata": {},
     "output_type": "execute_result"
    }
   ],
   "source": [
    "offline[0]"
   ]
  },
  {
   "cell_type": "code",
   "execution_count": 169,
   "metadata": {},
   "outputs": [
    {
     "data": {
      "text/plain": [
       "'1139643118358'"
      ]
     },
     "execution_count": 169,
     "metadata": {},
     "output_type": "execute_result"
    }
   ],
   "source": [
    "offline[1]"
   ]
  },
  {
   "cell_type": "code",
   "execution_count": 171,
   "metadata": {},
   "outputs": [
    {
     "data": {
      "text/html": [
       "\n",
       "    <span>IntVector with 2 elements.</span>\n",
       "    <table>\n",
       "      <tbody>\n",
       "      <tr>\n",
       "      \n",
       "      <td>\n",
       "        1,181,629\n",
       "      </td>\n",
       "      \n",
       "      <td>\n",
       "        10\n",
       "      </td>\n",
       "      \n",
       "      </tr>\n",
       "      </tbody>\n",
       "    </table>\n",
       "    "
      ],
      "text/plain": [
       "R object with classes: ('integer',) mapped to:\n",
       "<IntVector - Python:0x10d404988 / R:0x7fb669f62ba8>\n",
       "[1,181,629, 10]"
      ]
     },
     "execution_count": 171,
     "metadata": {},
     "output_type": "execute_result"
    }
   ],
   "source": [
    "new_offline = offline\n",
    "r_base.dim(new_offline)"
   ]
  },
  {
   "cell_type": "code",
   "execution_count": 173,
   "metadata": {},
   "outputs": [
    {
     "data": {
      "text/plain": [
       "NA_character_"
      ]
     },
     "execution_count": 173,
     "metadata": {},
     "output_type": "execute_result"
    }
   ],
   "source": [
    "new_offline[0]"
   ]
  },
  {
   "cell_type": "code",
   "execution_count": 186,
   "metadata": {},
   "outputs": [
    {
     "name": "stdout",
     "output_type": "stream",
     "text": [
      " [1]\n",
      " NA             \n",
      " \"1139643118358\"\n",
      " \"1139643118358\"\n",
      " \"1139643118358\"\n",
      "\n",
      "\n",
      " [5]\n",
      " \"1139643118358\"\n",
      " \"1139643118358\"\n",
      " \"1139643118358\"\n",
      " \"1139643118358\"\n",
      "\n",
      "\n",
      " [9]\n",
      " \"1139643118358\"\n",
      " \"1139643118358\"\n",
      "\n",
      "\n"
     ]
    },
    {
     "data": {
      "text/html": [
       "\n",
       "    <span>StrVector with 10 elements.</span>\n",
       "    <table>\n",
       "      <tbody>\n",
       "      <tr>\n",
       "      \n",
       "      <td>\n",
       "        NA_character_\n",
       "      </td>\n",
       "      \n",
       "      <td>\n",
       "        '11396431...\n",
       "      </td>\n",
       "      \n",
       "      <td>\n",
       "        '11396431...\n",
       "      </td>\n",
       "      \n",
       "      <td>\n",
       "        '11396431...\n",
       "      </td>\n",
       "      \n",
       "      <td>\n",
       "        ...\n",
       "      </td>\n",
       "      \n",
       "      <td>\n",
       "        '11396431...\n",
       "      </td>\n",
       "      \n",
       "      <td>\n",
       "        '11396431...\n",
       "      </td>\n",
       "      \n",
       "      <td>\n",
       "        '11396431...\n",
       "      </td>\n",
       "      \n",
       "      <td>\n",
       "        '11396431...\n",
       "      </td>\n",
       "      \n",
       "      </tr>\n",
       "      </tbody>\n",
       "    </table>\n",
       "    "
      ],
      "text/plain": [
       "R object with classes: ('character',) mapped to:\n",
       "<StrVector - Python:0x10db686c8 / R:0x7fb669bc4f58>\n",
       "[NA_character_, '11396431..., '11396431..., '11396431..., ..., '11396431..., '11396431..., '11396431..., '11396431...]"
      ]
     },
     "execution_count": 186,
     "metadata": {},
     "output_type": "execute_result"
    }
   ],
   "source": [
    "#print(np.matrix(new_offline))\n",
    "r_base.print(new_offline[0:10])"
   ]
  },
  {
   "cell_type": "code",
   "execution_count": 192,
   "metadata": {},
   "outputs": [
    {
     "data": {
      "text/html": [
       "\n",
       "    <span>Matrix with 70 elements.</span>\n",
       "    <table>\n",
       "      <tbody>\n",
       "      <tr>\n",
       "      \n",
       "      <td>\n",
       "        '11396486...\n",
       "      </td>\n",
       "      \n",
       "      <td>\n",
       "        '11396473...\n",
       "      </td>\n",
       "      \n",
       "      <td>\n",
       "        '11396482...\n",
       "      </td>\n",
       "      \n",
       "      <td>\n",
       "        '11396451...\n",
       "      </td>\n",
       "      \n",
       "      <td>\n",
       "        ...\n",
       "      </td>\n",
       "      \n",
       "      <td>\n",
       "        NA_character_\n",
       "      </td>\n",
       "      \n",
       "      <td>\n",
       "        NA_character_\n",
       "      </td>\n",
       "      \n",
       "      <td>\n",
       "        NA_character_\n",
       "      </td>\n",
       "      \n",
       "      <td>\n",
       "        NA_character_\n",
       "      </td>\n",
       "      \n",
       "      </tr>\n",
       "      </tbody>\n",
       "    </table>\n",
       "    "
      ],
      "text/plain": [
       "R object with classes: ('table',) mapped to:\n",
       "<Matrix - Python:0x10d4e9c08 / R:0x7fb66e03efa0>\n",
       "['11396486..., '11396473..., '11396482..., '11396451..., ..., NA_character_, NA_character_, NA_character_, NA_character_]"
      ]
     },
     "execution_count": 192,
     "metadata": {},
     "output_type": "execute_result"
    }
   ],
   "source": [
    "r_base.summary(offline)"
   ]
  },
  {
   "cell_type": "code",
   "execution_count": 208,
   "metadata": {},
   "outputs": [
    {
     "data": {
      "text/html": [
       "\n",
       "    <span>IntVector with 1 elements.</span>\n",
       "    <table>\n",
       "      <tbody>\n",
       "      <tr>\n",
       "      \n",
       "      <td>\n",
       "        11,816,290\n",
       "      </td>\n",
       "      \n",
       "      </tr>\n",
       "      </tbody>\n",
       "    </table>\n",
       "    "
      ],
      "text/plain": [
       "R object with classes: ('integer',) mapped to:\n",
       "<IntVector - Python:0x10db66448 / R:0x7fb666a82f48>\n",
       "[11,816,290]"
      ]
     },
     "execution_count": 208,
     "metadata": {},
     "output_type": "execute_result"
    }
   ],
   "source": [
    "r_base.length(offline)"
   ]
  },
  {
   "cell_type": "code",
   "execution_count": 217,
   "metadata": {},
   "outputs": [
    {
     "data": {
      "text/html": [
       "\n",
       "    <span>StrVector with 10 elements.</span>\n",
       "    <table>\n",
       "      <tbody>\n",
       "      <tr>\n",
       "      \n",
       "      <td>\n",
       "        NA_character_\n",
       "      </td>\n",
       "      \n",
       "      <td>\n",
       "        '11396431...\n",
       "      </td>\n",
       "      \n",
       "      <td>\n",
       "        '11396431...\n",
       "      </td>\n",
       "      \n",
       "      <td>\n",
       "        '11396431...\n",
       "      </td>\n",
       "      \n",
       "      <td>\n",
       "        ...\n",
       "      </td>\n",
       "      \n",
       "      <td>\n",
       "        '11396431...\n",
       "      </td>\n",
       "      \n",
       "      <td>\n",
       "        '11396431...\n",
       "      </td>\n",
       "      \n",
       "      <td>\n",
       "        '11396431...\n",
       "      </td>\n",
       "      \n",
       "      <td>\n",
       "        '11396431...\n",
       "      </td>\n",
       "      \n",
       "      </tr>\n",
       "      </tbody>\n",
       "    </table>\n",
       "    "
      ],
      "text/plain": [
       "R object with classes: ('character',) mapped to:\n",
       "<StrVector - Python:0x10de34888 / R:0x7fb670ed38a0>\n",
       "[NA_character_, '11396431..., '11396431..., '11396431..., ..., '11396431..., '11396431..., '11396431..., '11396431...]"
      ]
     },
     "execution_count": 217,
     "metadata": {},
     "output_type": "execute_result"
    }
   ],
   "source": [
    "new_offline[0:10]"
   ]
  },
  {
   "cell_type": "markdown",
   "metadata": {},
   "source": [
    "### Summary Statistics\n",
    "\n",
    "> The summary statistics for each company are found below:\n",
    "|\n",
    "| Variable | Description |\n",
    "| :------: | :---------: |\n",
    "| t | Timestamp in milliseconds since midnight, January 1, 1970 UTC |\n",
    "| id | MAC address of the scanning device |\n",
    "| pos | The physical coordinate of the scanning device |\n",
    "| degree | Orientation of the user carrying the scanning device in degrees |\n",
    "| MAC | MAC address of a responding peer (e.g., an access point or a device in adhoc mode) with the corresponding values for signal strength in dBm (Decibel-milliwatts), the channel frequency and its mode (access point = 3, device in adhoc mode = 1) |"
   ]
  },
  {
   "cell_type": "markdown",
   "metadata": {},
   "source": [
    "# <a name=\"Methods\"></a>Methods"
   ]
  },
  {
   "cell_type": "markdown",
   "metadata": {},
   "source": [
    "# <a name=\"Results\"></a>Results"
   ]
  },
  {
   "cell_type": "markdown",
   "metadata": {},
   "source": [
    "# <a name=\"Conclusion\"></a>Future Work, Discussion, and Conclusion"
   ]
  },
  {
   "cell_type": "markdown",
   "metadata": {},
   "source": [
    "# <a name=\"References\"></a>References\n",
    "\n",
    "1. \n",
    "2. \n",
    "3. "
   ]
  },
  {
   "cell_type": "code",
   "execution_count": null,
   "metadata": {},
   "outputs": [],
   "source": []
  }
 ],
 "metadata": {
  "kernelspec": {
   "display_name": "Python 3",
   "language": "python",
   "name": "python3"
  },
  "language_info": {
   "codemirror_mode": {
    "name": "ipython",
    "version": 3
   },
   "file_extension": ".py",
   "mimetype": "text/x-python",
   "name": "python",
   "nbconvert_exporter": "python",
   "pygments_lexer": "ipython3",
   "version": "3.6.5"
  }
 },
 "nbformat": 4,
 "nbformat_minor": 2
}
